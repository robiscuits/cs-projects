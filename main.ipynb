{
 "cells": [
  {
   "cell_type": "code",
   "execution_count": 1,
   "metadata": {},
   "outputs": [],
   "source": [
    "# project: p6\n",
    "# submitter: rrgeorge\n",
    "# partner: none"
   ]
  },
  {
   "cell_type": "code",
   "execution_count": 2,
   "metadata": {},
   "outputs": [],
   "source": [
    "import csv\n",
    "\n",
    "# copied from https://automatetheboringstuff.com/chapter14/\n",
    "def process_csv(filename):\n",
    "    exampleFile = open(filename, encoding=\"utf-8\")\n",
    "    exampleReader = csv.reader(exampleFile)\n",
    "    exampleData = list(exampleReader)\n",
    "    exampleFile.close()\n",
    "    return exampleData\n",
    "\n",
    "# use process_csv to pull out the header and data rows\n",
    "csv_rows = process_csv(\"wine.csv\")\n",
    "csv_header = csv_rows[0]\n",
    "csv_data = csv_rows[1:]"
   ]
  },
  {
   "cell_type": "code",
   "execution_count": 3,
   "metadata": {},
   "outputs": [
    {
     "data": {
      "text/plain": [
       "['country', 'points', 'price', 'variety', 'winery', 'description']"
      ]
     },
     "execution_count": 3,
     "metadata": {},
     "output_type": "execute_result"
    }
   ],
   "source": [
    "csv_header\n"
   ]
  },
  {
   "cell_type": "code",
   "execution_count": 4,
   "metadata": {},
   "outputs": [
    {
     "data": {
      "text/plain": [
       "3"
      ]
     },
     "execution_count": 4,
     "metadata": {},
     "output_type": "execute_result"
    }
   ],
   "source": [
    "\n",
    "csv_header.index(\"variety\")"
   ]
  },
  {
   "cell_type": "code",
   "execution_count": 5,
   "metadata": {},
   "outputs": [],
   "source": [
    "def cell(row_idx, col_name):\n",
    "    col_idx = csv_header.index(col_name)\n",
    "    val = csv_data[row_idx][col_idx]\n",
    "    if val == \"\":\n",
    "        return None\n",
    "    if col_name == \"price\":\n",
    "        val = float(val)\n",
    "    elif col_name == \"points\":\n",
    "        val = int(val)\n",
    "    return val"
   ]
  },
  {
   "cell_type": "code",
   "execution_count": 6,
   "metadata": {},
   "outputs": [
    {
     "name": "stdout",
     "output_type": "stream",
     "text": [
      "original list: ['B', 'C', 'A']\n",
      "returned value: ['A', 'B', 'C']\n"
     ]
    }
   ],
   "source": [
    "letters = [\"B\", \"C\", \"A\"]\n",
    "\n",
    "result = sorted(letters)\n",
    "\n",
    "print(\"original list:\", letters)\n",
    "print(\"returned value:\", result)"
   ]
  },
  {
   "cell_type": "code",
   "execution_count": 7,
   "metadata": {},
   "outputs": [
    {
     "name": "stdout",
     "output_type": "stream",
     "text": [
      "original str: BCA\n",
      "returned value: ['A', 'B', 'C']\n"
     ]
    }
   ],
   "source": [
    "s = \"BCA\"\n",
    "\n",
    "result = sorted(s)\n",
    "\n",
    "print(\"original str:\", s)\n",
    "print(\"returned value:\", result)"
   ]
  },
  {
   "cell_type": "code",
   "execution_count": 8,
   "metadata": {},
   "outputs": [
    {
     "name": "stdout",
     "output_type": "stream",
     "text": [
      "original list: ['C', 'A']\n",
      "returned value: B\n"
     ]
    }
   ],
   "source": [
    "letters = [\"B\", \"C\", \"A\"]\n",
    "\n",
    "result = letters.pop(0)\n",
    "\n",
    "print(\"original list:\", letters)\n",
    "print(\"returned value:\", result)"
   ]
  },
  {
   "cell_type": "code",
   "execution_count": 9,
   "metadata": {},
   "outputs": [
    {
     "name": "stdout",
     "output_type": "stream",
     "text": [
      "['A', 'B', 'C']\n",
      "{'C', 'A', 'B'}\n"
     ]
    }
   ],
   "source": [
    "example_list = [\"A\", \"B\", \"C\"]\n",
    "print(example_list)\n",
    "example_set = {\"A\", \"B\", \"C\"}\n",
    "print(example_set)"
   ]
  },
  {
   "cell_type": "code",
   "execution_count": 10,
   "metadata": {},
   "outputs": [
    {
     "data": {
      "text/plain": [
       "True"
      ]
     },
     "execution_count": 10,
     "metadata": {},
     "output_type": "execute_result"
    }
   ],
   "source": [
    "\"A\" in example_list\n"
   ]
  },
  {
   "cell_type": "code",
   "execution_count": 11,
   "metadata": {},
   "outputs": [
    {
     "data": {
      "text/plain": [
       "'A'"
      ]
     },
     "execution_count": 11,
     "metadata": {},
     "output_type": "execute_result"
    }
   ],
   "source": [
    "example_list[0]"
   ]
  },
  {
   "cell_type": "code",
   "execution_count": 12,
   "metadata": {},
   "outputs": [
    {
     "data": {
      "text/plain": [
       "True"
      ]
     },
     "execution_count": 12,
     "metadata": {},
     "output_type": "execute_result"
    }
   ],
   "source": [
    "{\"A\", \"B\", \"C\"} == {\"C\", \"B\", \"A\"}\n"
   ]
  },
  {
   "cell_type": "code",
   "execution_count": 13,
   "metadata": {},
   "outputs": [
    {
     "name": "stdout",
     "output_type": "stream",
     "text": [
      "{1, 2, 4}\n"
     ]
    }
   ],
   "source": [
    "items = [1,2,4]\n",
    "items_set = set(items)\n",
    "print(items_set)"
   ]
  },
  {
   "cell_type": "code",
   "execution_count": 14,
   "metadata": {},
   "outputs": [
    {
     "name": "stdout",
     "output_type": "stream",
     "text": [
      "[1, 2, 4]\n"
     ]
    }
   ],
   "source": [
    "items = {4,2,1}\n",
    "items_list = list(items)\n",
    "print(items_list)\n"
   ]
  },
  {
   "cell_type": "code",
   "execution_count": 15,
   "metadata": {},
   "outputs": [
    {
     "data": {
      "text/plain": [
       "['US',\n",
       " 'Spain',\n",
       " 'France',\n",
       " 'Italy',\n",
       " 'New Zealand',\n",
       " 'Bulgaria',\n",
       " 'Argentina',\n",
       " 'Australia',\n",
       " 'Portugal',\n",
       " 'Israel',\n",
       " 'South Africa',\n",
       " 'Greece',\n",
       " 'Chile',\n",
       " 'Morocco',\n",
       " 'Romania',\n",
       " 'Germany',\n",
       " 'Canada',\n",
       " 'Moldova',\n",
       " 'Hungary',\n",
       " 'Austria',\n",
       " 'Croatia',\n",
       " 'Slovenia',\n",
       " 'India']"
      ]
     },
     "execution_count": 15,
     "metadata": {},
     "output_type": "execute_result"
    }
   ],
   "source": [
    "#Q1\n",
    "thisList=[]\n",
    "for i in range(0,1501):\n",
    "    if cell(i, \"country\")!= None:\n",
    "        if cell(i, \"country\") not in thisList:\n",
    "            thisList.append(cell(i, \"country\"))\n",
    "            \n",
    "thisList"
   ]
  },
  {
   "cell_type": "code",
   "execution_count": 16,
   "metadata": {},
   "outputs": [
    {
     "data": {
      "text/plain": [
       "39.40787623066104"
      ]
     },
     "execution_count": 16,
     "metadata": {},
     "output_type": "execute_result"
    }
   ],
   "source": [
    "#Q2\n",
    "avgPrice=0\n",
    "denom = 0\n",
    "for i in range(0,1501):\n",
    "    if cell(i, \"price\")!= None:\n",
    "        denom +=1\n",
    "        avgPrice+=cell(i, \"price\")\n",
    "        \n",
    "avgPrice/denom"
   ]
  },
  {
   "cell_type": "code",
   "execution_count": 17,
   "metadata": {},
   "outputs": [
    {
     "data": {
      "text/plain": [
       "['Kumeu River', 'Spy Valley', 'Felton Road']"
      ]
     },
     "execution_count": 17,
     "metadata": {},
     "output_type": "execute_result"
    }
   ],
   "source": [
    "#Q3\n",
    "thisList=[]\n",
    "for i in range(0,1501):\n",
    "    if cell(i, \"country\")!= None:\n",
    "        if cell(i, \"winery\")!= None:\n",
    "            if cell(i, \"country\")== \"New Zealand\":\n",
    "                if cell(i, \"winery\") not in thisList:\n",
    "                    thisList.append(cell(i, \"winery\"))\n",
    "            \n",
    "thisList"
   ]
  },
  {
   "cell_type": "code",
   "execution_count": 18,
   "metadata": {},
   "outputs": [
    {
     "data": {
      "text/plain": [
       "['Pinot Noir',\n",
       " 'Cabernet Sauvignon',\n",
       " 'Zinfandel',\n",
       " 'Lemberger',\n",
       " 'Aglianico',\n",
       " 'Bordeaux-style Red Blend',\n",
       " 'Cabernet Franc',\n",
       " 'Sangiovese',\n",
       " 'Merlot',\n",
       " 'Nebbiolo',\n",
       " 'Blaufränkisch',\n",
       " 'Meritage',\n",
       " 'Rosé']"
      ]
     },
     "execution_count": 18,
     "metadata": {},
     "output_type": "execute_result"
    }
   ],
   "source": [
    "#Q4\n",
    "thisList=[]\n",
    "anotherList=[]\n",
    "for i in range(0,1501):\n",
    "    thisList.append(cell(i, \"description\"))\n",
    "    if \"cranberry\" in thisList[i]:\n",
    "        if cell(i, \"variety\") not in anotherList:\n",
    "            anotherList.append(cell(i, \"variety\"))\n",
    "            \n",
    "anotherList"
   ]
  },
  {
   "cell_type": "code",
   "execution_count": 19,
   "metadata": {},
   "outputs": [
    {
     "data": {
      "text/plain": [
       "['Pinot Grigio', 'Chardonnay', 'Sparkling Blend']"
      ]
     },
     "execution_count": 19,
     "metadata": {},
     "output_type": "execute_result"
    }
   ],
   "source": [
    "#Q5\n",
    "thisList=[]\n",
    "anotherList=[]\n",
    "for i in range(0,1501):\n",
    "    thisList.append(cell(i, \"description\"))\n",
    "    if \"lemon-lime soda\" in thisList[i]:\n",
    "        if cell(i, \"variety\") not in anotherList:\n",
    "            anotherList.append(cell(i, \"variety\"))\n",
    "            \n",
    "anotherList"
   ]
  },
  {
   "cell_type": "code",
   "execution_count": 20,
   "metadata": {},
   "outputs": [
    {
     "data": {
      "text/plain": [
       "['Tinta de Toro', 'Cabernet Sauvignon', 'Tempranillo', 'Red Blend', 'Castelão']"
      ]
     },
     "execution_count": 20,
     "metadata": {},
     "output_type": "execute_result"
    }
   ],
   "source": [
    "#Q6\n",
    "thisList=[]\n",
    "anotherList=[]\n",
    "for i in range(0,1501):\n",
    "    thisList.append(cell(i, \"description\"))\n",
    "    if \"black-fruit\" in thisList[i]:\n",
    "        if cell(i, \"variety\") not in anotherList:\n",
    "            anotherList.append(cell(i, \"variety\"))\n",
    "            \n",
    "anotherList"
   ]
  },
  {
   "cell_type": "code",
   "execution_count": 21,
   "metadata": {},
   "outputs": [
    {
     "data": {
      "text/plain": [
       "['Cabernet Sauvignon']"
      ]
     },
     "execution_count": 21,
     "metadata": {},
     "output_type": "execute_result"
    }
   ],
   "source": [
    "#Q7\n",
    "thisList=[]\n",
    "s = \"antibusgovernance\"\n",
    "aList= sorted(s)\n",
    "anotherList = set(aList)\n",
    "finalList=[]\n",
    "indexed = ''\n",
    "for i in range(0,1501):\n",
    "    indexed = cell(i, \"variety\")\n",
    "    indexed = indexed.replace(\" \", \"\")\n",
    "    indexed = indexed.lower()\n",
    "    indexed = set(sorted(indexed))\n",
    "    if anotherList == indexed:\n",
    "        if cell(i, \"variety\") not in finalList:\n",
    "            finalList.append(cell(i, \"variety\"))\n",
    "    i+=1\n",
    "    \n",
    "finalList\n"
   ]
  },
  {
   "cell_type": "code",
   "execution_count": 22,
   "metadata": {},
   "outputs": [
    {
     "data": {
      "text/plain": [
       "123"
      ]
     },
     "execution_count": 22,
     "metadata": {},
     "output_type": "execute_result"
    }
   ],
   "source": [
    "#Q8\n",
    "anotherList=[]\n",
    "for i in range(0,1501):\n",
    "    if cell(i, \"variety\")==\"Pinot Noir\":\n",
    "        if cell(i, \"winery\") not in anotherList:\n",
    "            anotherList.append(cell(i, \"winery\"))\n",
    "            \n",
    "len(anotherList)"
   ]
  },
  {
   "cell_type": "code",
   "execution_count": 23,
   "metadata": {},
   "outputs": [
    {
     "data": {
      "text/plain": [
       "['Tinta de Toro']"
      ]
     },
     "execution_count": 23,
     "metadata": {},
     "output_type": "execute_result"
    }
   ],
   "source": [
    "#Q9\n",
    "anotherList=[]\n",
    "best = 0\n",
    "for i in range(0,1501):\n",
    "    if cell(i, \"country\")== \"Spain\":\n",
    "        if cell(i, \"points\")>best:\n",
    "            anotherList=[]\n",
    "            anotherList.append(cell(i, \"variety\"))\n",
    "            best = cell(i, \"points\")\n",
    "        elif cell(i, \"points\")==best:\n",
    "            if cell(i, \"variety\") not in anotherList:\n",
    "                anotherList.append(cell(i, \"variety\"))\n",
    "\n",
    "anotherList"
   ]
  },
  {
   "cell_type": "code",
   "execution_count": 24,
   "metadata": {},
   "outputs": [
    {
     "data": {
      "text/plain": [
       "['Gaja']"
      ]
     },
     "execution_count": 24,
     "metadata": {},
     "output_type": "execute_result"
    }
   ],
   "source": [
    "#Q10\n",
    "anotherList=[]\n",
    "best = 1.1\n",
    "for i in range(0,1501):\n",
    "    if cell(i, \"country\")== \"Italy\":\n",
    "        if cell(i, \"price\")!= None:\n",
    "            if cell(i, \"price\")>best:\n",
    "                anotherList=[]\n",
    "                anotherList.append(cell(i, \"winery\"))\n",
    "                best = cell(i, \"price\")\n",
    "            elif cell(i, \"price\")==best:\n",
    "                if cell(i, \"winery\") not in anotherList:\n",
    "                    anotherList.append(cell(i, \"winery\"))\n",
    "\n",
    "anotherList"
   ]
  },
  {
   "cell_type": "code",
   "execution_count": 25,
   "metadata": {},
   "outputs": [],
   "source": [
    "def ppd(winery):\n",
    "    runningPoints=0\n",
    "    runningPrice=0\n",
    "    runningPPD=0\n",
    "    varIdx=0\n",
    "    for i in range(0, 1501):\n",
    "        if cell(i, \"winery\")== winery:\n",
    "            if cell(i, \"price\")!=None and cell(i, \"points\")!= None:\n",
    "                runningPoints=cell(i, \"points\")\n",
    "                runningPrice=cell(i, \"price\")\n",
    "                runningPPD+=runningPoints/runningPrice\n",
    "                varIdx+=1\n",
    "                \n",
    "    if varIdx==0:\n",
    "        return None\n",
    "    return runningPPD/varIdx"
   ]
  },
  {
   "cell_type": "code",
   "execution_count": 26,
   "metadata": {},
   "outputs": [
    {
     "data": {
      "text/plain": [
       "1.98628003003003"
      ]
     },
     "execution_count": 26,
     "metadata": {},
     "output_type": "execute_result"
    }
   ],
   "source": [
    "#Q11\n",
    "ppd(\"Patricia Green Cellars\")\n"
   ]
  },
  {
   "cell_type": "code",
   "execution_count": 27,
   "metadata": {},
   "outputs": [
    {
     "data": {
      "text/plain": [
       "0.2923076923076923"
      ]
     },
     "execution_count": 27,
     "metadata": {},
     "output_type": "execute_result"
    }
   ],
   "source": [
    "#Q12\n",
    "ppd(\"Hall\")"
   ]
  },
  {
   "cell_type": "code",
   "execution_count": 28,
   "metadata": {},
   "outputs": [
    {
     "data": {
      "text/plain": [
       "['Grand Pacific']"
      ]
     },
     "execution_count": 28,
     "metadata": {},
     "output_type": "execute_result"
    }
   ],
   "source": [
    "#Q13\n",
    "anotherList=[]\n",
    "best = 0\n",
    "thisPPD=0\n",
    "for i in range(0,1501):\n",
    "    if cell(i, \"country\")== \"US\":\n",
    "        thisPPD = ppd(cell(i, \"winery\"))\n",
    "        if thisPPD!= None:\n",
    "            if thisPPD>best:\n",
    "                anotherList=[]\n",
    "                anotherList.append(cell(i, \"winery\"))\n",
    "                best = thisPPD\n",
    "            elif thisPPD==best:\n",
    "                if cell(i, \"winery\") not in anotherList:\n",
    "                    anotherList.append(cell(i, \"winery\"))\n",
    "        \n",
    "        \n",
    "anotherList"
   ]
  },
  {
   "cell_type": "code",
   "execution_count": 29,
   "metadata": {},
   "outputs": [
    {
     "data": {
      "text/plain": [
       "['Long Neck', 'Essay', 'Robertson Winery', 'KWV']"
      ]
     },
     "execution_count": 29,
     "metadata": {},
     "output_type": "execute_result"
    }
   ],
   "source": [
    "#Q14\n",
    "anotherList=[]\n",
    "best = 0\n",
    "thisPPD=0\n",
    "for i in range(0,1501):\n",
    "    if cell(i, \"country\")== \"South Africa\":\n",
    "        thisPPD = ppd(cell(i, \"winery\"))\n",
    "        if thisPPD!= None:\n",
    "            if thisPPD>best:\n",
    "                anotherList=[]\n",
    "                anotherList.append(cell(i, \"winery\"))\n",
    "                best = thisPPD\n",
    "            elif thisPPD==best:\n",
    "                if cell(i, \"winery\") not in anotherList:\n",
    "                    anotherList.append(cell(i, \"winery\"))\n",
    "        \n",
    "        \n",
    "anotherList"
   ]
  },
  {
   "cell_type": "code",
   "execution_count": 30,
   "metadata": {},
   "outputs": [
    {
     "data": {
      "text/plain": [
       "['Bodega Las Cañitas']"
      ]
     },
     "execution_count": 30,
     "metadata": {},
     "output_type": "execute_result"
    }
   ],
   "source": [
    "#Q15\n",
    "anotherList=[]\n",
    "best = 100000000\n",
    "thisPPD=0\n",
    "for i in range(0,1501):\n",
    "    if cell(i, \"country\")== \"Argentina\":\n",
    "        thisPPD = ppd(cell(i, \"winery\"))\n",
    "        if thisPPD!= None:\n",
    "            if thisPPD<best:\n",
    "                anotherList=[]\n",
    "                anotherList.append(cell(i, \"winery\"))\n",
    "                best = thisPPD\n",
    "            elif thisPPD<=best:\n",
    "                if cell(i, \"winery\") not in anotherList:\n",
    "                    anotherList.append(cell(i, \"winery\"))\n",
    "        \n",
    "        \n",
    "anotherList"
   ]
  },
  {
   "cell_type": "code",
   "execution_count": 31,
   "metadata": {},
   "outputs": [],
   "source": [
    "def prod_by(winery):\n",
    "    varList=[]\n",
    "    for i in range(0,1501):\n",
    "        if cell(i, \"winery\")==winery:\n",
    "            if cell(i, \"variety\") not in varList:\n",
    "                varList.append(cell(i, \"variety\"))\n",
    "                \n",
    "    return varList"
   ]
  },
  {
   "cell_type": "code",
   "execution_count": 32,
   "metadata": {},
   "outputs": [
    {
     "data": {
      "text/plain": [
       "['Cabernet Franc']"
      ]
     },
     "execution_count": 32,
     "metadata": {},
     "output_type": "execute_result"
    }
   ],
   "source": [
    "#Q16\n",
    "prod_by(\"Ironstone\")"
   ]
  },
  {
   "cell_type": "code",
   "execution_count": 33,
   "metadata": {},
   "outputs": [
    {
     "data": {
      "text/plain": [
       "['Portuguese White', 'Portuguese Rosé', 'Portuguese Red']"
      ]
     },
     "execution_count": 33,
     "metadata": {},
     "output_type": "execute_result"
    }
   ],
   "source": [
    "#Q17\n",
    "prod_by(\"Quinta Nova de Nossa Senhora do Carmo\")"
   ]
  },
  {
   "cell_type": "code",
   "execution_count": 34,
   "metadata": {},
   "outputs": [
    {
     "data": {
      "text/plain": [
       "7.6923076923076925"
      ]
     },
     "execution_count": 34,
     "metadata": {},
     "output_type": "execute_result"
    }
   ],
   "source": [
    "#Q18\n",
    "thisList=[]\n",
    "anotherList=[]\n",
    "for i in range(0,1501):\n",
    "    thisList.append(cell(i, \"description\"))\n",
    "    if \"cranberry\" in thisList[i]:\n",
    "        if cell(i, \"variety\") not in anotherList:\n",
    "            anotherList.append(cell(i, \"variety\"))\n",
    "            \n",
    "thisList_2=[]\n",
    "anotherList_2=[]\n",
    "for i in range(0,1501):\n",
    "    thisList_2.append(cell(i, \"description\"))\n",
    "    if \"black-fruit\" in thisList_2[i]:\n",
    "        if cell(i, \"variety\") not in anotherList_2:\n",
    "            anotherList_2.append(cell(i, \"variety\"))\n",
    "    \n",
    "finalList=[]\n",
    "            \n",
    "for m in range(len(anotherList)):\n",
    "    for n in range(len(anotherList_2)):\n",
    "        if anotherList[m] == anotherList_2[n]:\n",
    "            finalList.append(anotherList[m])\n",
    "            \n",
    "perc = (len(finalList)/len(anotherList))*100\n",
    "perc"
   ]
  },
  {
   "cell_type": "code",
   "execution_count": 35,
   "metadata": {},
   "outputs": [
    {
     "data": {
      "text/plain": [
       "130.0"
      ]
     },
     "execution_count": 35,
     "metadata": {},
     "output_type": "execute_result"
    }
   ],
   "source": [
    "#Q19\n",
    "anotherList=[]\n",
    "best = 0\n",
    "for i in range(0,1501):\n",
    "    if cell(i, \"country\")== \"Portugal\":\n",
    "        if cell(i, \"price\")!= None:\n",
    "            if cell(i, \"price\")>=best:\n",
    "                best = cell(i, \"price\")\n",
    "                \n",
    "best"
   ]
  },
  {
   "cell_type": "code",
   "execution_count": 36,
   "metadata": {},
   "outputs": [
    {
     "data": {
      "text/plain": [
       "281.0"
      ]
     },
     "execution_count": 36,
     "metadata": {},
     "output_type": "execute_result"
    }
   ],
   "source": [
    "#Q20\n",
    "anotherList=[]\n",
    "best = 0\n",
    "for i in range(0,1501):\n",
    "    if cell(i, \"country\")== \"Portugal\":\n",
    "        if cell(i, \"price\")!= None:\n",
    "            if cell(i, \"price\")>=best:\n",
    "                best = cell(i, \"price\")\n",
    "                \n",
    "dublebest= 2*best\n",
    "\n",
    "anotherList=[]\n",
    "worst=10000000\n",
    "for i in range(0,1501):\n",
    "    if cell(i, \"country\")== \"Portugal\":\n",
    "        if cell(i, \"price\")!= None:\n",
    "            if cell(i, \"price\")<=worst:\n",
    "                worst = cell(i, \"price\")\n",
    "                \n",
    "dubleworst=3*worst\n",
    "\n",
    "final = dublebest+dubleworst\n",
    "\n",
    "final"
   ]
  },
  {
   "cell_type": "code",
   "execution_count": null,
   "metadata": {},
   "outputs": [],
   "source": []
  }
 ],
 "metadata": {
  "kernelspec": {
   "display_name": "Python 3",
   "language": "python",
   "name": "python3"
  },
  "language_info": {
   "codemirror_mode": {
    "name": "ipython",
    "version": 3
   },
   "file_extension": ".py",
   "mimetype": "text/x-python",
   "name": "python",
   "nbconvert_exporter": "python",
   "pygments_lexer": "ipython3",
   "version": "3.7.6"
  }
 },
 "nbformat": 4,
 "nbformat_minor": 4
}
