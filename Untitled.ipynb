{
 "cells": [
  {
   "cell_type": "code",
   "execution_count": 4,
   "metadata": {},
   "outputs": [],
   "source": [
    "import sqlite3\n",
    "import pandas as pd\n",
    "import os"
   ]
  },
  {
   "cell_type": "code",
   "execution_count": 5,
   "metadata": {},
   "outputs": [
    {
     "data": {
      "text/plain": [
       "<sqlite3.Connection at 0x21ae933bc70>"
      ]
     },
     "execution_count": 5,
     "metadata": {},
     "output_type": "execute_result"
    }
   ],
   "source": [
    "\n",
    "\n",
    "\n",
    "path = \"bus.db\"\n",
    "assert os.path.exists(path)\n",
    "conn = sqlite3.connect(path)\n",
    "conn"
   ]
  },
  {
   "cell_type": "code",
   "execution_count": 8,
   "metadata": {},
   "outputs": [
    {
     "data": {
      "text/html": [
       "<div>\n",
       "<style scoped>\n",
       "    .dataframe tbody tr th:only-of-type {\n",
       "        vertical-align: middle;\n",
       "    }\n",
       "\n",
       "    .dataframe tbody tr th {\n",
       "        vertical-align: top;\n",
       "    }\n",
       "\n",
       "    .dataframe thead th {\n",
       "        text-align: right;\n",
       "    }\n",
       "</style>\n",
       "<table border=\"1\" class=\"dataframe\">\n",
       "  <thead>\n",
       "    <tr style=\"text-align: right;\">\n",
       "      <th></th>\n",
       "      <th>type</th>\n",
       "      <th>name</th>\n",
       "      <th>tbl_name</th>\n",
       "      <th>rootpage</th>\n",
       "      <th>sql</th>\n",
       "    </tr>\n",
       "  </thead>\n",
       "  <tbody>\n",
       "    <tr>\n",
       "      <th>0</th>\n",
       "      <td>table</td>\n",
       "      <td>boarding</td>\n",
       "      <td>boarding</td>\n",
       "      <td>2</td>\n",
       "      <td>CREATE TABLE \"boarding\" (\\n\"index\" INTEGER,\\n ...</td>\n",
       "    </tr>\n",
       "    <tr>\n",
       "      <th>1</th>\n",
       "      <td>index</td>\n",
       "      <td>ix_boarding_index</td>\n",
       "      <td>boarding</td>\n",
       "      <td>3</td>\n",
       "      <td>CREATE INDEX \"ix_boarding_index\"ON \"boarding\" ...</td>\n",
       "    </tr>\n",
       "    <tr>\n",
       "      <th>2</th>\n",
       "      <td>table</td>\n",
       "      <td>routes</td>\n",
       "      <td>routes</td>\n",
       "      <td>55</td>\n",
       "      <td>CREATE TABLE \"routes\" (\\n\"index\" INTEGER,\\n  \"...</td>\n",
       "    </tr>\n",
       "    <tr>\n",
       "      <th>3</th>\n",
       "      <td>index</td>\n",
       "      <td>ix_routes_index</td>\n",
       "      <td>routes</td>\n",
       "      <td>57</td>\n",
       "      <td>CREATE INDEX \"ix_routes_index\"ON \"routes\" (\"in...</td>\n",
       "    </tr>\n",
       "  </tbody>\n",
       "</table>\n",
       "</div>"
      ],
      "text/plain": [
       "    type               name  tbl_name  rootpage  \\\n",
       "0  table           boarding  boarding         2   \n",
       "1  index  ix_boarding_index  boarding         3   \n",
       "2  table             routes    routes        55   \n",
       "3  index    ix_routes_index    routes        57   \n",
       "\n",
       "                                                 sql  \n",
       "0  CREATE TABLE \"boarding\" (\\n\"index\" INTEGER,\\n ...  \n",
       "1  CREATE INDEX \"ix_boarding_index\"ON \"boarding\" ...  \n",
       "2  CREATE TABLE \"routes\" (\\n\"index\" INTEGER,\\n  \"...  \n",
       "3  CREATE INDEX \"ix_routes_index\"ON \"routes\" (\"in...  "
      ]
     },
     "execution_count": 8,
     "metadata": {},
     "output_type": "execute_result"
    }
   ],
   "source": [
    "df = pd.read_sql(\"SELECT * FROM sqlite_master\", conn)\n",
    "df"
   ]
  },
  {
   "cell_type": "code",
   "execution_count": 9,
   "metadata": {},
   "outputs": [
    {
     "name": "stdout",
     "output_type": "stream",
     "text": [
      "CREATE TABLE \"boarding\" (\n",
      "\"index\" INTEGER,\n",
      "  \"StopID\" INTEGER,\n",
      "  \"Route\" INTEGER,\n",
      "  \"Lat\" REAL,\n",
      "  \"Lon\" REAL,\n",
      "  \"DailyBoardings\" REAL\n",
      ")\n",
      "CREATE INDEX \"ix_boarding_index\"ON \"boarding\" (\"index\")\n",
      "CREATE TABLE \"routes\" (\n",
      "\"index\" INTEGER,\n",
      "  \"OBJECTID\" INTEGER,\n",
      "  \"trips_routes_route_id\" INTEGER,\n",
      "  \"route_short_name\" INTEGER,\n",
      "  \"route_url\" TEXT,\n",
      "  \"ShapeSTLength\" REAL\n",
      ")\n",
      "CREATE INDEX \"ix_routes_index\"ON \"routes\" (\"index\")\n"
     ]
    }
   ],
   "source": [
    "for code in df[\"sql\"]:\n",
    "    print(code)"
   ]
  },
  {
   "cell_type": "code",
   "execution_count": null,
   "metadata": {},
   "outputs": [],
   "source": [
    "#Syntax: SELECT __columns__ FROM __tablename__ ; (not case or space sensitive) semicolon use if not using pandas\n",
    "#select * from boarding where route = 80 order by StopID DESC limit 3;"
   ]
  },
  {
   "cell_type": "code",
   "execution_count": 10,
   "metadata": {},
   "outputs": [
    {
     "data": {
      "text/html": [
       "<div>\n",
       "<style scoped>\n",
       "    .dataframe tbody tr th:only-of-type {\n",
       "        vertical-align: middle;\n",
       "    }\n",
       "\n",
       "    .dataframe tbody tr th {\n",
       "        vertical-align: top;\n",
       "    }\n",
       "\n",
       "    .dataframe thead th {\n",
       "        text-align: right;\n",
       "    }\n",
       "</style>\n",
       "<table border=\"1\" class=\"dataframe\">\n",
       "  <thead>\n",
       "    <tr style=\"text-align: right;\">\n",
       "      <th></th>\n",
       "      <th>index</th>\n",
       "      <th>OBJECTID</th>\n",
       "      <th>trips_routes_route_id</th>\n",
       "      <th>route_short_name</th>\n",
       "      <th>route_url</th>\n",
       "      <th>ShapeSTLength</th>\n",
       "    </tr>\n",
       "  </thead>\n",
       "  <tbody>\n",
       "    <tr>\n",
       "      <th>0</th>\n",
       "      <td>0</td>\n",
       "      <td>63</td>\n",
       "      <td>8052</td>\n",
       "      <td>1</td>\n",
       "      <td>http://www.cityofmadison.com/Metro/schedules/R...</td>\n",
       "      <td>32379.426524</td>\n",
       "    </tr>\n",
       "    <tr>\n",
       "      <th>1</th>\n",
       "      <td>1</td>\n",
       "      <td>64</td>\n",
       "      <td>8053</td>\n",
       "      <td>2</td>\n",
       "      <td>http://www.cityofmadison.com/Metro/schedules/R...</td>\n",
       "      <td>96906.965571</td>\n",
       "    </tr>\n",
       "    <tr>\n",
       "      <th>2</th>\n",
       "      <td>2</td>\n",
       "      <td>65</td>\n",
       "      <td>8054</td>\n",
       "      <td>3</td>\n",
       "      <td>http://www.cityofmadison.com/Metro/schedules/R...</td>\n",
       "      <td>76436.645644</td>\n",
       "    </tr>\n",
       "    <tr>\n",
       "      <th>3</th>\n",
       "      <td>3</td>\n",
       "      <td>66</td>\n",
       "      <td>8055</td>\n",
       "      <td>4</td>\n",
       "      <td>http://www.cityofmadison.com/Metro/schedules/R...</td>\n",
       "      <td>64774.133485</td>\n",
       "    </tr>\n",
       "    <tr>\n",
       "      <th>4</th>\n",
       "      <td>4</td>\n",
       "      <td>67</td>\n",
       "      <td>8056</td>\n",
       "      <td>5</td>\n",
       "      <td>http://www.cityofmadison.com/Metro/schedules/R...</td>\n",
       "      <td>61216.722662</td>\n",
       "    </tr>\n",
       "  </tbody>\n",
       "</table>\n",
       "</div>"
      ],
      "text/plain": [
       "   index  OBJECTID  trips_routes_route_id  route_short_name  \\\n",
       "0      0        63                   8052                 1   \n",
       "1      1        64                   8053                 2   \n",
       "2      2        65                   8054                 3   \n",
       "3      3        66                   8055                 4   \n",
       "4      4        67                   8056                 5   \n",
       "\n",
       "                                           route_url  ShapeSTLength  \n",
       "0  http://www.cityofmadison.com/Metro/schedules/R...   32379.426524  \n",
       "1  http://www.cityofmadison.com/Metro/schedules/R...   96906.965571  \n",
       "2  http://www.cityofmadison.com/Metro/schedules/R...   76436.645644  \n",
       "3  http://www.cityofmadison.com/Metro/schedules/R...   64774.133485  \n",
       "4  http://www.cityofmadison.com/Metro/schedules/R...   61216.722662  "
      ]
     },
     "execution_count": 10,
     "metadata": {},
     "output_type": "execute_result"
    }
   ],
   "source": [
    "pd.read_sql(\"SELECT * FROM routes\", conn).head()"
   ]
  },
  {
   "cell_type": "code",
   "execution_count": 11,
   "metadata": {},
   "outputs": [
    {
     "data": {
      "text/html": [
       "<div>\n",
       "<style scoped>\n",
       "    .dataframe tbody tr th:only-of-type {\n",
       "        vertical-align: middle;\n",
       "    }\n",
       "\n",
       "    .dataframe tbody tr th {\n",
       "        vertical-align: top;\n",
       "    }\n",
       "\n",
       "    .dataframe thead th {\n",
       "        text-align: right;\n",
       "    }\n",
       "</style>\n",
       "<table border=\"1\" class=\"dataframe\">\n",
       "  <thead>\n",
       "    <tr style=\"text-align: right;\">\n",
       "      <th></th>\n",
       "      <th>index</th>\n",
       "      <th>StopID</th>\n",
       "      <th>Route</th>\n",
       "      <th>Lat</th>\n",
       "      <th>Lon</th>\n",
       "      <th>DailyBoardings</th>\n",
       "    </tr>\n",
       "  </thead>\n",
       "  <tbody>\n",
       "    <tr>\n",
       "      <th>0</th>\n",
       "      <td>0</td>\n",
       "      <td>1163</td>\n",
       "      <td>27</td>\n",
       "      <td>43.073655</td>\n",
       "      <td>-89.385427</td>\n",
       "      <td>1.03</td>\n",
       "    </tr>\n",
       "    <tr>\n",
       "      <th>1</th>\n",
       "      <td>1</td>\n",
       "      <td>1163</td>\n",
       "      <td>47</td>\n",
       "      <td>43.073655</td>\n",
       "      <td>-89.385427</td>\n",
       "      <td>0.11</td>\n",
       "    </tr>\n",
       "    <tr>\n",
       "      <th>2</th>\n",
       "      <td>2</td>\n",
       "      <td>1163</td>\n",
       "      <td>75</td>\n",
       "      <td>43.073655</td>\n",
       "      <td>-89.385427</td>\n",
       "      <td>0.34</td>\n",
       "    </tr>\n",
       "    <tr>\n",
       "      <th>3</th>\n",
       "      <td>3</td>\n",
       "      <td>1164</td>\n",
       "      <td>6</td>\n",
       "      <td>43.106465</td>\n",
       "      <td>-89.340021</td>\n",
       "      <td>10.59</td>\n",
       "    </tr>\n",
       "    <tr>\n",
       "      <th>4</th>\n",
       "      <td>4</td>\n",
       "      <td>1167</td>\n",
       "      <td>3</td>\n",
       "      <td>43.077867</td>\n",
       "      <td>-89.369993</td>\n",
       "      <td>3.11</td>\n",
       "    </tr>\n",
       "    <tr>\n",
       "      <th>...</th>\n",
       "      <td>...</td>\n",
       "      <td>...</td>\n",
       "      <td>...</td>\n",
       "      <td>...</td>\n",
       "      <td>...</td>\n",
       "      <td>...</td>\n",
       "    </tr>\n",
       "    <tr>\n",
       "      <th>3967</th>\n",
       "      <td>3967</td>\n",
       "      <td>6533</td>\n",
       "      <td>67</td>\n",
       "      <td>43.057329</td>\n",
       "      <td>-89.510756</td>\n",
       "      <td>16.88</td>\n",
       "    </tr>\n",
       "    <tr>\n",
       "      <th>3968</th>\n",
       "      <td>3968</td>\n",
       "      <td>6539</td>\n",
       "      <td>15</td>\n",
       "      <td>43.064361</td>\n",
       "      <td>-89.517233</td>\n",
       "      <td>15.53</td>\n",
       "    </tr>\n",
       "    <tr>\n",
       "      <th>3969</th>\n",
       "      <td>3969</td>\n",
       "      <td>6541</td>\n",
       "      <td>3</td>\n",
       "      <td>43.049934</td>\n",
       "      <td>-89.478167</td>\n",
       "      <td>2.56</td>\n",
       "    </tr>\n",
       "    <tr>\n",
       "      <th>3970</th>\n",
       "      <td>3970</td>\n",
       "      <td>6543</td>\n",
       "      <td>70</td>\n",
       "      <td>43.093289</td>\n",
       "      <td>-89.501726</td>\n",
       "      <td>0.11</td>\n",
       "    </tr>\n",
       "    <tr>\n",
       "      <th>3971</th>\n",
       "      <td>3971</td>\n",
       "      <td>6543</td>\n",
       "      <td>71</td>\n",
       "      <td>43.093289</td>\n",
       "      <td>-89.501726</td>\n",
       "      <td>6.73</td>\n",
       "    </tr>\n",
       "  </tbody>\n",
       "</table>\n",
       "<p>3972 rows × 6 columns</p>\n",
       "</div>"
      ],
      "text/plain": [
       "      index  StopID  Route        Lat        Lon  DailyBoardings\n",
       "0         0    1163     27  43.073655 -89.385427            1.03\n",
       "1         1    1163     47  43.073655 -89.385427            0.11\n",
       "2         2    1163     75  43.073655 -89.385427            0.34\n",
       "3         3    1164      6  43.106465 -89.340021           10.59\n",
       "4         4    1167      3  43.077867 -89.369993            3.11\n",
       "...     ...     ...    ...        ...        ...             ...\n",
       "3967   3967    6533     67  43.057329 -89.510756           16.88\n",
       "3968   3968    6539     15  43.064361 -89.517233           15.53\n",
       "3969   3969    6541      3  43.049934 -89.478167            2.56\n",
       "3970   3970    6543     70  43.093289 -89.501726            0.11\n",
       "3971   3971    6543     71  43.093289 -89.501726            6.73\n",
       "\n",
       "[3972 rows x 6 columns]"
      ]
     },
     "execution_count": 11,
     "metadata": {},
     "output_type": "execute_result"
    }
   ],
   "source": [
    "pd.read_sql('SELECT * FROM boarding', conn)"
   ]
  },
  {
   "cell_type": "code",
   "execution_count": 15,
   "metadata": {},
   "outputs": [
    {
     "data": {
      "text/plain": [
       "55987.17999999951"
      ]
     },
     "execution_count": 15,
     "metadata": {},
     "output_type": "execute_result"
    }
   ],
   "source": [
    "#how many people get on a bus in Madison every day\n",
    "pd.read_sql(\"SELECT DailyBoardings FROM boarding\", conn)\n",
    "busriders = pd.read_sql(\"SELECT DailyBoardings FROM boarding\", conn)[\"DailyBoardings\"]\n",
    "sum(busriders)"
   ]
  },
  {
   "cell_type": "code",
   "execution_count": 18,
   "metadata": {},
   "outputs": [],
   "source": [
    "# GO WES!!!! which bus should I take\n",
    "pd.read_sql(\"SELECT * FROM boarding ORDER BY lon ASC LIMIT 1\", conn)\n",
    "conn.close()"
   ]
  },
  {
   "cell_type": "code",
   "execution_count": null,
   "metadata": {},
   "outputs": [],
   "source": []
  }
 ],
 "metadata": {
  "kernelspec": {
   "display_name": "Python 3",
   "language": "python",
   "name": "python3"
  },
  "language_info": {
   "codemirror_mode": {
    "name": "ipython",
    "version": 3
   },
   "file_extension": ".py",
   "mimetype": "text/x-python",
   "name": "python",
   "nbconvert_exporter": "python",
   "pygments_lexer": "ipython3",
   "version": "3.7.6"
  }
 },
 "nbformat": 4,
 "nbformat_minor": 4
}
