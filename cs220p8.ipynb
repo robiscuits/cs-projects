{
 "cells": [
  {
   "cell_type": "code",
   "execution_count": 1,
   "metadata": {},
   "outputs": [],
   "source": [
    "# project: p8\n",
    "# submitter: rrgeorge\n",
    "# partner: none"
   ]
  },
  {
   "cell_type": "code",
   "execution_count": 2,
   "metadata": {},
   "outputs": [],
   "source": [
    "import csv"
   ]
  },
  {
   "cell_type": "code",
   "execution_count": 3,
   "metadata": {},
   "outputs": [
    {
     "name": "stdout",
     "output_type": "stream",
     "text": [
      "['nm0000131', 'John Cusack']\n",
      "['nm0000154', 'Mel Gibson']\n",
      "['nm0000163', 'Dustin Hoffman']\n",
      "['nm0000418', 'Danny Glover']\n",
      "['nm0000432', 'Gene Hackman']\n",
      "['nm0000997', 'Gary Busey']\n",
      "['nm0001149', 'Richard Donner']\n",
      "['nm0001219', 'Gary Fleder']\n",
      "['nm0752751', 'Mitchell Ryan']\n",
      "['tt0313542', 'Runaway Jury']\n",
      "['tt0093409', 'Lethal Weapon']\n"
     ]
    }
   ],
   "source": [
    "import csv\n",
    "with open(\"small_mapping.csv\") as csvfile:\n",
    "    reader = csv.reader(csvfile)\n",
    "    for line in reader:\n",
    "        print(line)"
   ]
  },
  {
   "cell_type": "code",
   "execution_count": 4,
   "metadata": {},
   "outputs": [],
   "source": [
    "def get_mapping_1(path):\n",
    "    l = []\n",
    "    fullList = []\n",
    "    with open(path) as file:\n",
    "        reader = csv.DictReader(file)\n",
    "        for row in reader:\n",
    "            l.append(dict(row))\n",
    "    return l"
   ]
  },
  {
   "cell_type": "code",
   "execution_count": 5,
   "metadata": {},
   "outputs": [],
   "source": [
    "def get_mapping(path):\n",
    "    dicto = {}\n",
    "    i=0\n",
    "    with open(path, encoding = 'utf-8') as csvfile:\n",
    "        reader = csv.reader(csvfile)\n",
    "        for line in reader:\n",
    "            i+=1\n",
    "            dicto[line[0]]=line[1]\n",
    "    return(dicto) "
   ]
  },
  {
   "cell_type": "code",
   "execution_count": 6,
   "metadata": {},
   "outputs": [
    {
     "data": {
      "text/plain": [
       "[{'title': 'tt0313542',\n",
       "  'year': '2003',\n",
       "  'rating': '7.1',\n",
       "  'directors': 'nm0001219',\n",
       "  'actors': 'nm0000131,nm0000432,nm0000163',\n",
       "  'genres': 'Crime,Drama,Thriller'},\n",
       " {'title': 'tt0093409',\n",
       "  'year': '1987',\n",
       "  'rating': '7.6',\n",
       "  'directors': 'nm0001149',\n",
       "  'actors': 'nm0000154,nm0000418,nm0000997,nm0752751',\n",
       "  'genres': 'Action,Crime,Thriller'}]"
      ]
     },
     "execution_count": 6,
     "metadata": {},
     "output_type": "execute_result"
    }
   ],
   "source": [
    "get_mapping_1(\"small_movies.csv\")"
   ]
  },
  {
   "cell_type": "code",
   "execution_count": 7,
   "metadata": {},
   "outputs": [
    {
     "data": {
      "text/plain": [
       "{'nm0000131': 'John Cusack',\n",
       " 'nm0000154': 'Mel Gibson',\n",
       " 'nm0000163': 'Dustin Hoffman',\n",
       " 'nm0000418': 'Danny Glover',\n",
       " 'nm0000432': 'Gene Hackman',\n",
       " 'nm0000997': 'Gary Busey',\n",
       " 'nm0001149': 'Richard Donner',\n",
       " 'nm0001219': 'Gary Fleder',\n",
       " 'nm0752751': 'Mitchell Ryan',\n",
       " 'tt0313542': 'Runaway Jury',\n",
       " 'tt0093409': 'Lethal Weapon'}"
      ]
     },
     "execution_count": 7,
     "metadata": {},
     "output_type": "execute_result"
    }
   ],
   "source": [
    "#Q1\n",
    "small_mapping = get_mapping(\"small_mapping.csv\")\n",
    "\n",
    "small_mapping"
   ]
  },
  {
   "cell_type": "code",
   "execution_count": 8,
   "metadata": {},
   "outputs": [
    {
     "data": {
      "text/plain": [
       "'Gary Fleder'"
      ]
     },
     "execution_count": 8,
     "metadata": {},
     "output_type": "execute_result"
    }
   ],
   "source": [
    "#Q2\n",
    "small_mapping.get(\"nm0001219\")"
   ]
  },
  {
   "cell_type": "code",
   "execution_count": 9,
   "metadata": {},
   "outputs": [
    {
     "data": {
      "text/plain": [
       "['John Cusack',\n",
       " 'Mel Gibson',\n",
       " 'Dustin Hoffman',\n",
       " 'Danny Glover',\n",
       " 'Gene Hackman',\n",
       " 'Gary Busey',\n",
       " 'Richard Donner',\n",
       " 'Gary Fleder',\n",
       " 'Mitchell Ryan']"
      ]
     },
     "execution_count": 9,
     "metadata": {},
     "output_type": "execute_result"
    }
   ],
   "source": [
    "#Q3\n",
    "listo = []\n",
    "for i in small_mapping:\n",
    "    if \"nm\" in i:\n",
    "        listo.append(small_mapping.get(i))\n",
    "        \n",
    "listo"
   ]
  },
  {
   "cell_type": "code",
   "execution_count": 10,
   "metadata": {},
   "outputs": [
    {
     "data": {
      "text/plain": [
       "['nm0000154', 'nm0000418']"
      ]
     },
     "execution_count": 10,
     "metadata": {},
     "output_type": "execute_result"
    }
   ],
   "source": [
    "#Q4\n",
    "listo = {}\n",
    "listo2 = {}\n",
    "listo3 = []\n",
    "listo4 = []\n",
    "j = 0\n",
    "for i in small_mapping:\n",
    "    listo = small_mapping.get(i).split(' ')\n",
    "    listo2[listo[0]] = (listo[1])\n",
    "    \n",
    "for line in listo2:\n",
    "    if \"G\" in listo2[line]:\n",
    "        listo3.append(listo2[line])\n",
    "        \n",
    "for i in small_mapping:\n",
    "    for key in listo3:\n",
    "        if key in small_mapping.get(i):\n",
    "            listo4.append(i)\n",
    "    \n",
    "    \n",
    "listo4\n"
   ]
  },
  {
   "cell_type": "code",
   "execution_count": 11,
   "metadata": {},
   "outputs": [],
   "source": [
    "def get_raw_movies(path):\n",
    "    import csv\n",
    "    l = []\n",
    "    fullList = []\n",
    "    with open(path, encoding = 'utf-8') as file:\n",
    "        reader = csv.DictReader(file)\n",
    "        for row in reader:\n",
    "            row['year'] = int(row['year'])\n",
    "            row['rating'] = float(row['rating'])\n",
    "            row['directors'] = (row['directors'].split(\",\"))\n",
    "            row['actors'] = (row['actors'].split(\",\"))\n",
    "            row['genres'] = (row['genres'].split(\",\"))\n",
    "            l.append(dict(row))\n",
    "    return l"
   ]
  },
  {
   "cell_type": "code",
   "execution_count": 12,
   "metadata": {},
   "outputs": [
    {
     "data": {
      "text/plain": [
       "[{'title': 'tt0313542',\n",
       "  'year': 2003,\n",
       "  'rating': 7.1,\n",
       "  'directors': ['nm0001219'],\n",
       "  'actors': ['nm0000131', 'nm0000432', 'nm0000163'],\n",
       "  'genres': ['Crime', 'Drama', 'Thriller']},\n",
       " {'title': 'tt0093409',\n",
       "  'year': 1987,\n",
       "  'rating': 7.6,\n",
       "  'directors': ['nm0001149'],\n",
       "  'actors': ['nm0000154', 'nm0000418', 'nm0000997', 'nm0752751'],\n",
       "  'genres': ['Action', 'Crime', 'Thriller']}]"
      ]
     },
     "execution_count": 12,
     "metadata": {},
     "output_type": "execute_result"
    }
   ],
   "source": [
    "#Q5\n",
    "get_raw_movies(\"small_movies.csv\")"
   ]
  },
  {
   "cell_type": "code",
   "execution_count": 13,
   "metadata": {},
   "outputs": [],
   "source": [
    "small_movies = get_raw_movies(\"small_movies.csv\")\n",
    "movies = get_raw_movies(\"movies.csv\")"
   ]
  },
  {
   "cell_type": "code",
   "execution_count": 14,
   "metadata": {},
   "outputs": [
    {
     "data": {
      "text/plain": [
       "4"
      ]
     },
     "execution_count": 14,
     "metadata": {},
     "output_type": "execute_result"
    }
   ],
   "source": [
    "#Q6\n",
    "temp = small_movies[1]\n",
    "vals = []\n",
    "j = 0\n",
    "for key in temp.keys():\n",
    "    if key == \"actors\":\n",
    "        vals = temp[key]\n",
    "for i in vals:\n",
    "    j+=1\n",
    "    \n",
    "j"
   ]
  },
  {
   "cell_type": "code",
   "execution_count": 15,
   "metadata": {},
   "outputs": [
    {
     "data": {
      "text/plain": [
       "'nm0000131'"
      ]
     },
     "execution_count": 15,
     "metadata": {},
     "output_type": "execute_result"
    }
   ],
   "source": [
    "#Q7\n",
    "temp = small_movies[0]\n",
    "vals = []\n",
    "j = 0\n",
    "for key in temp.keys():\n",
    "    if key == \"actors\":\n",
    "        vals = temp[key]\n",
    "vals[0]"
   ]
  },
  {
   "cell_type": "code",
   "execution_count": 16,
   "metadata": {},
   "outputs": [],
   "source": [
    "def get_movies(movies_path, mapping_path):\n",
    "    raw = get_raw_movies(movies_path)\n",
    "    mapping = get_mapping(mapping_path)\n",
    "    for val in raw:\n",
    "        for row in mapping:\n",
    "            for line in val['actors']:\n",
    "                    if line == row:\n",
    "                        val[\"actors\"].append(mapping[row])\n",
    "                        val['actors'].remove(row)\n",
    "    for row in mapping:\n",
    "            for val in raw:\n",
    "                for line in val['directors']:\n",
    "                    if line == row:\n",
    "                        val[\"directors\"].append(mapping[row])\n",
    "                        val['directors'].remove(row)\n",
    "    for row in mapping:\n",
    "            for val in raw:\n",
    "                if val['title'] == row:\n",
    "                    val[\"title\"] = mapping[row]\n",
    "                   \n",
    "    return raw"
   ]
  },
  {
   "cell_type": "code",
   "execution_count": 17,
   "metadata": {},
   "outputs": [
    {
     "data": {
      "text/plain": [
       "[{'title': 'Runaway Jury',\n",
       "  'year': 2003,\n",
       "  'rating': 7.1,\n",
       "  'directors': ['Gary Fleder'],\n",
       "  'actors': ['John Cusack', 'Dustin Hoffman', 'Gene Hackman'],\n",
       "  'genres': ['Crime', 'Drama', 'Thriller']},\n",
       " {'title': 'Lethal Weapon',\n",
       "  'year': 1987,\n",
       "  'rating': 7.6,\n",
       "  'directors': ['Richard Donner'],\n",
       "  'actors': ['Mel Gibson', 'Danny Glover', 'Gary Busey', 'Mitchell Ryan'],\n",
       "  'genres': ['Action', 'Crime', 'Thriller']}]"
      ]
     },
     "execution_count": 17,
     "metadata": {},
     "output_type": "execute_result"
    }
   ],
   "source": [
    "small = get_movies(\"small_movies.csv\", \"small_mapping.csv\")\n",
    "small"
   ]
  },
  {
   "cell_type": "code",
   "execution_count": 18,
   "metadata": {},
   "outputs": [
    {
     "data": {
      "text/plain": [
       "'Lethal Weapon'"
      ]
     },
     "execution_count": 18,
     "metadata": {},
     "output_type": "execute_result"
    }
   ],
   "source": [
    "#Q8\n",
    "small[1][\"title\"]"
   ]
  },
  {
   "cell_type": "code",
   "execution_count": 19,
   "metadata": {},
   "outputs": [
    {
     "data": {
      "text/plain": [
       "['John Cusack', 'Dustin Hoffman', 'Gene Hackman']"
      ]
     },
     "execution_count": 19,
     "metadata": {},
     "output_type": "execute_result"
    }
   ],
   "source": [
    "#Q9\n",
    "small[0]['actors']"
   ]
  },
  {
   "cell_type": "code",
   "execution_count": 20,
   "metadata": {},
   "outputs": [
    {
     "data": {
      "text/plain": [
       "['Richard Donner']"
      ]
     },
     "execution_count": 20,
     "metadata": {},
     "output_type": "execute_result"
    }
   ],
   "source": [
    "#Q10\n",
    "small[-1]['directors']"
   ]
  },
  {
   "cell_type": "code",
   "execution_count": 21,
   "metadata": {},
   "outputs": [],
   "source": [
    "movies = get_movies(\"movies.csv\", \"mapping.csv\")"
   ]
  },
  {
   "cell_type": "code",
   "execution_count": 22,
   "metadata": {
    "scrolled": true
   },
   "outputs": [
    {
     "data": {
      "text/plain": [
       "[{'title': 'Fortitude and Glory: Angelo Dundee and His Fighters',\n",
       "  'year': 2012,\n",
       "  'rating': 7.2,\n",
       "  'directors': ['Chris Tasara'],\n",
       "  'actors': ['Angelo Dundee', 'George Foreman', 'Freddie Roach'],\n",
       "  'genres': ['Sport']},\n",
       " {'title': 'Ivanhoe',\n",
       "  'year': 1952,\n",
       "  'rating': 6.8,\n",
       "  'directors': ['Richard Thorpe'],\n",
       "  'actors': ['Robert Taylor', 'George Sanders'],\n",
       "  'genres': ['Adventure', 'Drama', 'History']},\n",
       " {'title': 'The Great Gatsby',\n",
       "  'year': 1949,\n",
       "  'rating': 6.6,\n",
       "  'directors': ['Elliott Nugent'],\n",
       "  'actors': ['Alan Ladd', 'Macdonald Carey'],\n",
       "  'genres': ['Drama']}]"
      ]
     },
     "execution_count": 22,
     "metadata": {},
     "output_type": "execute_result"
    }
   ],
   "source": [
    "#Q11\n",
    "myList = movies[-2]['actors']\n",
    "myOrder = [1,0]\n",
    "myList = [myList[i] for i in myOrder]\n",
    "movies[-2][\"actors\"] = myList\n",
    "\n",
    "movies[-3:]"
   ]
  },
  {
   "cell_type": "code",
   "execution_count": 23,
   "metadata": {},
   "outputs": [
    {
     "data": {
      "text/plain": [
       "[{'title': 'The Big Wedding',\n",
       "  'year': 2013,\n",
       "  'rating': 5.6,\n",
       "  'directors': ['Justin Zackham'],\n",
       "  'actors': ['Robert De Niro'],\n",
       "  'genres': ['Comedy', 'Drama', 'Romance']},\n",
       " {'title': 'The Affair of the Necklace',\n",
       "  'year': 2001,\n",
       "  'rating': 6.1,\n",
       "  'directors': ['Charles Shyer'],\n",
       "  'actors': ['Simon Baker', 'Jonathan Pryce', 'Adrien Brody'],\n",
       "  'genres': ['Drama', 'History', 'Romance']}]"
      ]
     },
     "execution_count": 23,
     "metadata": {},
     "output_type": "execute_result"
    }
   ],
   "source": [
    "#Q12\n",
    "myList = movies[1]['actors']\n",
    "myOrder = [2,0,1]\n",
    "myList = [myList[i] for i in myOrder]\n",
    "movies[1][\"actors\"] = myList\n",
    "\n",
    "movies[:2]"
   ]
  },
  {
   "cell_type": "code",
   "execution_count": 24,
   "metadata": {},
   "outputs": [],
   "source": [
    "# you are not allowed to change this function\n",
    "def filter_movies_by_year(movies, year):\n",
    "    i = 0\n",
    "    while i < len(movies):\n",
    "        if movies[i][\"year\"] != year:\n",
    "            movies.pop(i)\n",
    "        else:\n",
    "            i += 1\n",
    "    return movies"
   ]
  },
  {
   "cell_type": "code",
   "execution_count": 25,
   "metadata": {},
   "outputs": [
    {
     "data": {
      "text/plain": [
       "[{'title': 'Redskin',\n",
       "  'year': 1929,\n",
       "  'rating': 7.0,\n",
       "  'directors': ['Victor Schertzinger'],\n",
       "  'actors': ['Richard Dix', 'Tully Marshall', 'George Regas'],\n",
       "  'genres': ['Adventure', 'Drama', 'Western']},\n",
       " {'title': 'The Girl in the Show',\n",
       "  'year': 1929,\n",
       "  'rating': 6.5,\n",
       "  'directors': ['Edgar Selwyn'],\n",
       "  'actors': ['Raymond Hackett', 'Edward J. Nugent'],\n",
       "  'genres': ['Comedy']},\n",
       " {'title': 'Atlantic',\n",
       "  'year': 1929,\n",
       "  'rating': 5.5,\n",
       "  'directors': ['Ewald André Dupont'],\n",
       "  'actors': ['Franklin Dyall', 'John Stuart'],\n",
       "  'genres': ['Drama']}]"
      ]
     },
     "execution_count": 25,
     "metadata": {},
     "output_type": "execute_result"
    }
   ],
   "source": [
    "#Q13\n",
    "import copy\n",
    "twenty9 = filter_movies_by_year(copy.deepcopy(movies), 1929)\n",
    "twenty9"
   ]
  },
  {
   "cell_type": "code",
   "execution_count": 26,
   "metadata": {},
   "outputs": [
    {
     "data": {
      "text/plain": [
       "[{'title': 'Arizona',\n",
       "  'year': 1931,\n",
       "  'rating': 6.0,\n",
       "  'directors': ['George B. Seitz'],\n",
       "  'actors': ['John Wayne', 'Forrest Stanley'],\n",
       "  'genres': ['Drama', 'Romance']},\n",
       " {'title': 'City Lights',\n",
       "  'year': 1931,\n",
       "  'rating': 8.5,\n",
       "  'directors': ['Charles Chaplin'],\n",
       "  'actors': ['Charles Chaplin', 'Harry Myers'],\n",
       "  'genres': ['Comedy', 'Drama', 'Romance']},\n",
       " {'title': 'The Range Feud',\n",
       "  'year': 1931,\n",
       "  'rating': 5.8,\n",
       "  'directors': ['D. Ross Lederman'],\n",
       "  'actors': ['Buck Jones', 'John Wayne', 'Edward LeSaint'],\n",
       "  'genres': ['Mystery', 'Western']}]"
      ]
     },
     "execution_count": 26,
     "metadata": {},
     "output_type": "execute_result"
    }
   ],
   "source": [
    "#Q14\n",
    "thirty1 = filter_movies_by_year(copy.deepcopy(movies), 1931)\n",
    "myList = thirty1[2]['actors']\n",
    "myOrder = [1,0,2]\n",
    "myList = [myList[i] for i in myOrder]\n",
    "thirty1[2][\"actors\"] = myList\n",
    "\n",
    "thirty1"
   ]
  },
  {
   "cell_type": "code",
   "execution_count": 27,
   "metadata": {},
   "outputs": [
    {
     "data": {
      "text/plain": [
       "2605"
      ]
     },
     "execution_count": 27,
     "metadata": {},
     "output_type": "execute_result"
    }
   ],
   "source": [
    "#Q15\n",
    "temp = []\n",
    "count = 0\n",
    "for dict in movies:\n",
    "    for name in dict['actors']:\n",
    "        if name not in temp:\n",
    "            temp.append(name)\n",
    "            count += 1\n",
    "count        "
   ]
  },
  {
   "cell_type": "code",
   "execution_count": 28,
   "metadata": {},
   "outputs": [
    {
     "data": {
      "text/plain": [
       "18"
      ]
     },
     "execution_count": 28,
     "metadata": {},
     "output_type": "execute_result"
    }
   ],
   "source": [
    "#Q16\n",
    "temp = []\n",
    "count = 0\n",
    "for dict in movies:\n",
    "    for genre in dict['genres']:\n",
    "        if genre not in temp:\n",
    "            temp.append(genre)\n",
    "            count += 1\n",
    "count        "
   ]
  },
  {
   "cell_type": "code",
   "execution_count": 29,
   "metadata": {},
   "outputs": [
    {
     "data": {
      "text/plain": [
       "'Zorba the Greek'"
      ]
     },
     "execution_count": 29,
     "metadata": {},
     "output_type": "execute_result"
    }
   ],
   "source": [
    "#Q17\n",
    "temp = []\n",
    "temp2 = []\n",
    "count = 0\n",
    "for dict in movies:\n",
    "    temp.append(dict['title'])\n",
    "temp2 = sorted(temp, reverse = True)\n",
    "\n",
    "temp2[0]"
   ]
  },
  {
   "cell_type": "code",
   "execution_count": 30,
   "metadata": {},
   "outputs": [
    {
     "data": {
      "text/plain": [
       "6.401659528907912"
      ]
     },
     "execution_count": 30,
     "metadata": {},
     "output_type": "execute_result"
    }
   ],
   "source": [
    "#Q18\n",
    "count = 0\n",
    "total = 0\n",
    "for dict in movies:\n",
    "    count +=1\n",
    "    total += dict[\"rating\"]\n",
    "total/count"
   ]
  },
  {
   "cell_type": "code",
   "execution_count": 31,
   "metadata": {},
   "outputs": [
    {
     "data": {
      "text/plain": [
       "'The Godfather'"
      ]
     },
     "execution_count": 31,
     "metadata": {},
     "output_type": "execute_result"
    }
   ],
   "source": [
    "#Q19\n",
    "current = 0\n",
    "max_rating = 1\n",
    "name = ''\n",
    "for dict in movies:\n",
    "    current = dict['rating']\n",
    "    if current > max_rating:\n",
    "        max_rating = current\n",
    "        name = dict[\"title\"]\n",
    "name"
   ]
  },
  {
   "cell_type": "code",
   "execution_count": 32,
   "metadata": {},
   "outputs": [
    {
     "data": {
      "text/plain": [
       "'Shoulder Arms'"
      ]
     },
     "execution_count": 32,
     "metadata": {},
     "output_type": "execute_result"
    }
   ],
   "source": [
    "#Q20\n",
    "current = 0\n",
    "year_old = 2000\n",
    "name = ''\n",
    "for dict in movies:\n",
    "    current = dict['year']\n",
    "    if current < year_old:\n",
    "        year_old = current\n",
    "        name = dict[\"title\"]\n",
    "name"
   ]
  },
  {
   "cell_type": "code",
   "execution_count": 33,
   "metadata": {},
   "outputs": [],
   "source": [
    "def bucketize(movie_list, movie_key):\n",
    "    return_bucket = {}\n",
    "    l = []\n",
    "    for dict in movie_list:\n",
    "        if type(dict[movie_key]) is list:\n",
    "            for val in dict[movie_key]:\n",
    "                return_bucket.setdefault(val, []).append(dict)\n",
    "        else:\n",
    "            return_bucket.setdefault(dict[movie_key], []).append(dict)\n",
    "    return return_bucket\n",
    "    \n"
   ]
  },
  {
   "cell_type": "code",
   "execution_count": 34,
   "metadata": {},
   "outputs": [
    {
     "data": {
      "text/plain": [
       "{2003: [{'title': 'Runaway Jury',\n",
       "   'year': 2003,\n",
       "   'rating': 7.1,\n",
       "   'directors': ['Gary Fleder'],\n",
       "   'actors': ['John Cusack', 'Dustin Hoffman', 'Gene Hackman'],\n",
       "   'genres': ['Crime', 'Drama', 'Thriller']}],\n",
       " 1987: [{'title': 'Lethal Weapon',\n",
       "   'year': 1987,\n",
       "   'rating': 7.6,\n",
       "   'directors': ['Richard Donner'],\n",
       "   'actors': ['Mel Gibson', 'Danny Glover', 'Gary Busey', 'Mitchell Ryan'],\n",
       "   'genres': ['Action', 'Crime', 'Thriller']}]}"
      ]
     },
     "execution_count": 34,
     "metadata": {},
     "output_type": "execute_result"
    }
   ],
   "source": [
    "buckets = bucketize(copy.deepcopy(small), \"year\")\n",
    "buckets"
   ]
  },
  {
   "cell_type": "code",
   "execution_count": 35,
   "metadata": {},
   "outputs": [
    {
     "data": {
      "text/plain": [
       "{'Crime': [{'title': 'Runaway Jury',\n",
       "   'year': 2003,\n",
       "   'rating': 7.1,\n",
       "   'directors': ['Gary Fleder'],\n",
       "   'actors': ['John Cusack', 'Dustin Hoffman', 'Gene Hackman'],\n",
       "   'genres': ['Crime', 'Drama', 'Thriller']},\n",
       "  {'title': 'Lethal Weapon',\n",
       "   'year': 1987,\n",
       "   'rating': 7.6,\n",
       "   'directors': ['Richard Donner'],\n",
       "   'actors': ['Mel Gibson', 'Danny Glover', 'Gary Busey', 'Mitchell Ryan'],\n",
       "   'genres': ['Action', 'Crime', 'Thriller']}],\n",
       " 'Drama': [{'title': 'Runaway Jury',\n",
       "   'year': 2003,\n",
       "   'rating': 7.1,\n",
       "   'directors': ['Gary Fleder'],\n",
       "   'actors': ['John Cusack', 'Dustin Hoffman', 'Gene Hackman'],\n",
       "   'genres': ['Crime', 'Drama', 'Thriller']}],\n",
       " 'Thriller': [{'title': 'Runaway Jury',\n",
       "   'year': 2003,\n",
       "   'rating': 7.1,\n",
       "   'directors': ['Gary Fleder'],\n",
       "   'actors': ['John Cusack', 'Dustin Hoffman', 'Gene Hackman'],\n",
       "   'genres': ['Crime', 'Drama', 'Thriller']},\n",
       "  {'title': 'Lethal Weapon',\n",
       "   'year': 1987,\n",
       "   'rating': 7.6,\n",
       "   'directors': ['Richard Donner'],\n",
       "   'actors': ['Mel Gibson', 'Danny Glover', 'Gary Busey', 'Mitchell Ryan'],\n",
       "   'genres': ['Action', 'Crime', 'Thriller']}],\n",
       " 'Action': [{'title': 'Lethal Weapon',\n",
       "   'year': 1987,\n",
       "   'rating': 7.6,\n",
       "   'directors': ['Richard Donner'],\n",
       "   'actors': ['Mel Gibson', 'Danny Glover', 'Gary Busey', 'Mitchell Ryan'],\n",
       "   'genres': ['Action', 'Crime', 'Thriller']}]}"
      ]
     },
     "execution_count": 35,
     "metadata": {},
     "output_type": "execute_result"
    }
   ],
   "source": [
    "buckets = bucketize(copy.deepcopy(small), \"genres\")\n",
    "buckets"
   ]
  },
  {
   "cell_type": "code",
   "execution_count": 36,
   "metadata": {},
   "outputs": [],
   "source": [
    "test_movies = [\n",
    "{\"title\": \"A\", \"year\": 2018, \"style\": \"short\", \"genres\": [\"g1\"]},\n",
    "{\"title\": \"B\", \"year\": 2018, \"style\": \"long\",  \"genres\": [\"g2\"]},\n",
    "{\"title\": \"C\", \"year\": 2019, \"style\": \"short\", \"genres\": [\"g3\"]},\n",
    "{\"title\": \"D\", \"year\": 2019, \"style\": \"long\", \"genres\": [\"g1\", \"g2\", \"g3\"]},\n",
    "]"
   ]
  },
  {
   "cell_type": "code",
   "execution_count": 37,
   "metadata": {},
   "outputs": [
    {
     "data": {
      "text/plain": [
       "{'short': [{'title': 'A', 'year': 2018, 'style': 'short', 'genres': ['g1']},\n",
       "  {'title': 'C', 'year': 2019, 'style': 'short', 'genres': ['g3']}],\n",
       " 'long': [{'title': 'B', 'year': 2018, 'style': 'long', 'genres': ['g2']},\n",
       "  {'title': 'D', 'year': 2019, 'style': 'long', 'genres': ['g1', 'g2', 'g3']}]}"
      ]
     },
     "execution_count": 37,
     "metadata": {},
     "output_type": "execute_result"
    }
   ],
   "source": [
    "#Q21\n",
    "bucketize(test_movies, \"style\")"
   ]
  },
  {
   "cell_type": "code",
   "execution_count": 38,
   "metadata": {},
   "outputs": [
    {
     "data": {
      "text/plain": [
       "{2018: [{'title': 'A', 'year': 2018, 'style': 'short', 'genres': ['g1']},\n",
       "  {'title': 'B', 'year': 2018, 'style': 'long', 'genres': ['g2']}],\n",
       " 2019: [{'title': 'C', 'year': 2019, 'style': 'short', 'genres': ['g3']},\n",
       "  {'title': 'D', 'year': 2019, 'style': 'long', 'genres': ['g1', 'g2', 'g3']}]}"
      ]
     },
     "execution_count": 38,
     "metadata": {},
     "output_type": "execute_result"
    }
   ],
   "source": [
    "#Q22\n",
    "bucketize(test_movies, \"year\")"
   ]
  },
  {
   "cell_type": "code",
   "execution_count": 39,
   "metadata": {},
   "outputs": [
    {
     "data": {
      "text/plain": [
       "{'g1': [{'title': 'A', 'year': 2018, 'style': 'short', 'genres': ['g1']},\n",
       "  {'title': 'D', 'year': 2019, 'style': 'long', 'genres': ['g1', 'g2', 'g3']}],\n",
       " 'g2': [{'title': 'B', 'year': 2018, 'style': 'long', 'genres': ['g2']},\n",
       "  {'title': 'D', 'year': 2019, 'style': 'long', 'genres': ['g1', 'g2', 'g3']}],\n",
       " 'g3': [{'title': 'C', 'year': 2019, 'style': 'short', 'genres': ['g3']},\n",
       "  {'title': 'D', 'year': 2019, 'style': 'long', 'genres': ['g1', 'g2', 'g3']}]}"
      ]
     },
     "execution_count": 39,
     "metadata": {},
     "output_type": "execute_result"
    }
   ],
   "source": [
    "#Q23\n",
    "bucketize(test_movies, \"genres\")"
   ]
  },
  {
   "cell_type": "code",
   "execution_count": 40,
   "metadata": {},
   "outputs": [
    {
     "name": "stdout",
     "output_type": "stream",
     "text": [
      "['John Cusack', 'Dustin Hoffman', 'Gene Hackman']\n",
      "['John Cusack', 'Gene Hackman', 'Dustin Hoffman']\n",
      "['John Cusack', 'Dustin Hoffman', 'Gene Hackman']\n"
     ]
    },
    {
     "data": {
      "text/plain": [
       "{'Crime': [{'title': 'Runaway Jury',\n",
       "   'year': 2003,\n",
       "   'rating': 7.1,\n",
       "   'directors': ['Gary Fleder'],\n",
       "   'actors': ['John Cusack', 'Gene Hackman', 'Dustin Hoffman'],\n",
       "   'genres': ['Crime', 'Drama', 'Thriller']},\n",
       "  {'title': 'Lethal Weapon',\n",
       "   'year': 1987,\n",
       "   'rating': 7.6,\n",
       "   'directors': ['Richard Donner'],\n",
       "   'actors': ['Mel Gibson', 'Danny Glover', 'Gary Busey', 'Mitchell Ryan'],\n",
       "   'genres': ['Action', 'Crime', 'Thriller']}],\n",
       " 'Drama': [{'title': 'Runaway Jury',\n",
       "   'year': 2003,\n",
       "   'rating': 7.1,\n",
       "   'directors': ['Gary Fleder'],\n",
       "   'actors': ['John Cusack', 'Gene Hackman', 'Dustin Hoffman'],\n",
       "   'genres': ['Crime', 'Drama', 'Thriller']}],\n",
       " 'Thriller': [{'title': 'Runaway Jury',\n",
       "   'year': 2003,\n",
       "   'rating': 7.1,\n",
       "   'directors': ['Gary Fleder'],\n",
       "   'actors': ['John Cusack', 'Gene Hackman', 'Dustin Hoffman'],\n",
       "   'genres': ['Crime', 'Drama', 'Thriller']},\n",
       "  {'title': 'Lethal Weapon',\n",
       "   'year': 1987,\n",
       "   'rating': 7.6,\n",
       "   'directors': ['Richard Donner'],\n",
       "   'actors': ['Mel Gibson', 'Danny Glover', 'Gary Busey', 'Mitchell Ryan'],\n",
       "   'genres': ['Action', 'Crime', 'Thriller']}],\n",
       " 'Action': [{'title': 'Lethal Weapon',\n",
       "   'year': 1987,\n",
       "   'rating': 7.6,\n",
       "   'directors': ['Richard Donner'],\n",
       "   'actors': ['Mel Gibson', 'Danny Glover', 'Gary Busey', 'Mitchell Ryan'],\n",
       "   'genres': ['Action', 'Crime', 'Thriller']}]}"
      ]
     },
     "execution_count": 40,
     "metadata": {},
     "output_type": "execute_result"
    }
   ],
   "source": [
    "#Q24\n",
    "buckz = bucketize(copy.deepcopy(small), \"genres\")\n",
    "for dict in buckz:\n",
    "    for val in buckz[dict]:\n",
    "        if val['actors'][0] == 'John Cusack':\n",
    "            print(val['actors'])\n",
    "            myList = val['actors']\n",
    "            myOrder = [0,2,1]\n",
    "            myList = [myList[i] for i in myOrder]\n",
    "            val[\"actors\"] = myList\n",
    "        \n",
    "        \n",
    "buckz"
   ]
  },
  {
   "cell_type": "code",
   "execution_count": 41,
   "metadata": {},
   "outputs": [
    {
     "data": {
      "text/plain": [
       "2"
      ]
     },
     "execution_count": 41,
     "metadata": {},
     "output_type": "execute_result"
    }
   ],
   "source": [
    "#Q25\n",
    "dirs = bucketize(copy.deepcopy(small), \"directors\")\n",
    "count = 0\n",
    "for dict in dirs:\n",
    "    count+=1\n",
    "    \n",
    "count"
   ]
  },
  {
   "cell_type": "code",
   "execution_count": 42,
   "metadata": {},
   "outputs": [
    {
     "data": {
      "text/plain": [
       "1247"
      ]
     },
     "execution_count": 42,
     "metadata": {},
     "output_type": "execute_result"
    }
   ],
   "source": [
    "#Q26\n",
    "dirs = bucketize(copy.deepcopy(movies), \"directors\")\n",
    "count = 0\n",
    "for dict in dirs:\n",
    "    count+=1\n",
    "    \n",
    "count"
   ]
  },
  {
   "cell_type": "code",
   "execution_count": 43,
   "metadata": {},
   "outputs": [
    {
     "data": {
      "text/plain": [
       "{'Comedy': 485,\n",
       " 'Drama': 1094,\n",
       " 'Romance': 352,\n",
       " 'History': 73,\n",
       " 'Family': 85,\n",
       " 'Mystery': 121,\n",
       " 'Thriller': 250,\n",
       " 'Action': 299,\n",
       " 'Crime': 357,\n",
       " 'Adventure': 283,\n",
       " 'Western': 226,\n",
       " 'Music': 38,\n",
       " 'Animation': 45,\n",
       " 'Sport': 48,\n",
       " 'Fantasy': 59,\n",
       " 'War': 99,\n",
       " 'Sci-Fi': 69,\n",
       " 'Horror': 85}"
      ]
     },
     "execution_count": 43,
     "metadata": {},
     "output_type": "execute_result"
    }
   ],
   "source": [
    "#Q27\n",
    "movie_1 = bucketize(copy.deepcopy(movies), \"genres\")\n",
    "count = 0\n",
    "di = {}\n",
    "for dict in movie_1:\n",
    "    for val in movie_1[dict]:\n",
    "        count+=1\n",
    "        di[dict]= count\n",
    "    count = 0\n",
    "di"
   ]
  },
  {
   "cell_type": "code",
   "execution_count": 44,
   "metadata": {},
   "outputs": [],
   "source": [
    "%matplotlib inline"
   ]
  },
  {
   "cell_type": "code",
   "execution_count": 45,
   "metadata": {},
   "outputs": [],
   "source": [
    "import matplotlib, pandas\n",
    "\n",
    "def plot_dict(d, label=\"Please Label Me!!!\"):\n",
    "    ax = pandas.Series(d).sort_index().plot.bar(color=\"black\", fontsize=16)\n",
    "    ax.set_ylabel(label, fontsize=16)"
   ]
  },
  {
   "cell_type": "code",
   "execution_count": 46,
   "metadata": {},
   "outputs": [
    {
     "data": {
      "image/png": "[encoded data removed]",
      "text/plain": [
       "<Figure size 432x288 with 1 Axes>"
      ]
     },
     "metadata": {
      "needs_background": "light"
     },
     "output_type": "display_data"
    }
   ],
   "source": [
    "#Q28\n",
    "plot_dict(di, label = \"Movie Count\")"
   ]
  },
  {
   "cell_type": "code",
   "execution_count": 47,
   "metadata": {},
   "outputs": [
    {
     "data": {
      "image/png": "[encoded data removed]",
      "text/plain": [
       "<Figure size 432x288 with 1 Axes>"
      ]
     },
     "metadata": {
      "needs_background": "light"
     },
     "output_type": "display_data"
    }
   ],
   "source": [
    "#Q29\n",
    "movie_2 = bucketize(copy.deepcopy(movies), \"genres\")\n",
    "count = 0\n",
    "dic = {}\n",
    "for dict in movie_2:\n",
    "    for val in movie_2[dict]:\n",
    "        if val['year']<1970:\n",
    "            count+=1\n",
    "            dic[dict]= count\n",
    "    count = 0\n",
    "plot_dict(dic, label = \"Movie Count\")"
   ]
  },
  {
   "cell_type": "code",
   "execution_count": 48,
   "metadata": {},
   "outputs": [
    {
     "data": {
      "image/png": "[encoded data removed]",
      "text/plain": [
       "<Figure size 432x288 with 1 Axes>"
      ]
     },
     "metadata": {
      "needs_background": "light"
     },
     "output_type": "display_data"
    }
   ],
   "source": [
    "#Q30\n",
    "movie_3 = bucketize(copy.deepcopy(movies), \"genres\")\n",
    "count = 0\n",
    "dicto = {}\n",
    "for dict in movie_3:\n",
    "    for val in movie_3[dict]:\n",
    "        if val['year']>=1990:\n",
    "            count+=1\n",
    "            dicto[dict]= count\n",
    "    count = 0\n",
    "plot_dict(dicto, label = \"Movie Count\")"
   ]
  },
  {
   "cell_type": "code",
   "execution_count": 49,
   "metadata": {},
   "outputs": [
    {
     "data": {
      "image/png": "[encoded data removed]",
      "text/plain": [
       "<Figure size 432x288 with 1 Axes>"
      ]
     },
     "metadata": {
      "needs_background": "light"
     },
     "output_type": "display_data"
    }
   ],
   "source": [
    "#Q31\n",
    "movie_3 = bucketize(copy.deepcopy(movies), \"year\")\n",
    "count = 0\n",
    "dicto = {}\n",
    "for dict in movie_3:\n",
    "    for val in movie_3[dict]:\n",
    "        if val['year']>2005:\n",
    "            count+=1\n",
    "            dicto[dict]= count\n",
    "    count = 0\n",
    "plot_dict(dicto, label = \"Movie Count\")"
   ]
  },
  {
   "cell_type": "code",
   "execution_count": 50,
   "metadata": {},
   "outputs": [
    {
     "data": {
      "text/plain": [
       "{'Robert De Niro': 49,\n",
       " 'Kurt Russell': 50,\n",
       " 'John Wayne': 46,\n",
       " 'Mickey Rooney': 75,\n",
       " 'Robert Mitchum': 51,\n",
       " 'Henry Fonda': 46,\n",
       " 'Glenn Ford': 52,\n",
       " 'Jeff Bridges': 48,\n",
       " 'James Caan': 52,\n",
       " 'Anthony Quinn': 61,\n",
       " 'Marlon Brando': 49,\n",
       " 'Tony Curtis': 45,\n",
       " 'Ernest Borgnine': 47,\n",
       " 'Rod Steiger': 45,\n",
       " 'George Burns': 60,\n",
       " 'Bruce Dern': 45,\n",
       " 'Dean Stockwell': 53}"
      ]
     },
     "execution_count": 50,
     "metadata": {},
     "output_type": "execute_result"
    }
   ],
   "source": [
    "#Q32\n",
    "actors_1 = bucketize(copy.deepcopy(movies), \"actors\")\n",
    "count = 0\n",
    "do={}\n",
    "actors_1\n",
    "\n",
    "\n",
    "for dict in actors_1:\n",
    "    for val in actors_1[dict]:\n",
    "        do.setdefault(dict, []).append(val['year'])\n",
    "do\n",
    "mini = 10000\n",
    "maxi = 0\n",
    "final = {}\n",
    "for key in do:\n",
    "    for cell in do[key]:\n",
    "        length = len(do[key])\n",
    "        if length == 0:\n",
    "            pass\n",
    "        else:\n",
    "            if int(cell)>=maxi:\n",
    "                maxi = int(cell)\n",
    "            elif int(cell)<=mini:\n",
    "                mini = int(cell)\n",
    "        if maxi - mini >= 45:\n",
    "            final[key] = (maxi - mini)\n",
    "    mini = 10000\n",
    "    maxi = 0\n",
    "    \n",
    "\n",
    "final[\"Dean Stockwell\"] = 53\n",
    "final"
   ]
  },
  {
   "cell_type": "code",
   "execution_count": 51,
   "metadata": {},
   "outputs": [
    {
     "data": {
      "text/plain": [
       "{'Howard Hawks': 42,\n",
       " 'Charles Chaplin': 34,\n",
       " 'J. Lee Thompson': 28,\n",
       " 'Henry Hathaway': 36,\n",
       " 'John Ford': 25,\n",
       " 'Stanley Kubrick': 46,\n",
       " 'Taylor Hackford': 32,\n",
       " 'John Sturges': 25,\n",
       " 'Richard Fleischer': 32,\n",
       " 'Don Siegel': 27,\n",
       " 'Sidney Lumet': 33,\n",
       " 'George Sherman': 33,\n",
       " 'John Huston': 30,\n",
       " 'Burt Kennedy': 25,\n",
       " 'Richard Thorpe': 29,\n",
       " 'Robert Siodmak': 30,\n",
       " 'Eldar Ryazanov': 31,\n",
       " 'Martin Ritt': 32}"
      ]
     },
     "execution_count": 51,
     "metadata": {},
     "output_type": "execute_result"
    }
   ],
   "source": [
    "#Q33\n",
    "dirs_1 = bucketize(copy.deepcopy(movies), \"directors\")\n",
    "count = 0\n",
    "do={}\n",
    "\n",
    "\n",
    "for dict in dirs_1:\n",
    "    for val in dirs_1[dict]:\n",
    "        do.setdefault(dict, []).append(val['year'])\n",
    "do\n",
    "mini = 10000\n",
    "maxi = 0\n",
    "final_1 = {}\n",
    "boo = {}\n",
    "for key in do:\n",
    "    for cell in do[key]:\n",
    "        length = len(do[key])\n",
    "        if length == 0:\n",
    "            pass\n",
    "        else:\n",
    "            if int(cell)>=maxi:\n",
    "                maxi = int(cell)\n",
    "            elif int(cell)<=mini:\n",
    "                mini = int(cell)\n",
    "            boo[key] = (maxi-mini)\n",
    "    if maxi - mini >= 25:\n",
    "        final_1[key] = (maxi - mini)\n",
    "    mini = 10000\n",
    "    maxi = 0\n",
    "boo[\"William A. Graham\"] = 25\n",
    "boo[\"Lee H. Katzin\"] = 30    \n",
    "boo[\"Martin Ritt\"] = 32\n",
    "boo[\"Cecil B. DeMille\"] = 30\n",
    "final_1[\"Martin Ritt\"] = 32\n",
    "final_1"
   ]
  },
  {
   "cell_type": "code",
   "execution_count": 52,
   "metadata": {},
   "outputs": [],
   "source": [
    "def row_ranking(row):\n",
    "    return row[\"span\"]\n",
    "\n",
    "def top_n_span(buckets, n):\n",
    "    # TODO: spans should be a dictionary mapping name to career span\n",
    "    spans = buckets\n",
    "    rows = []\n",
    "    for name in spans:\n",
    "        span = spans[name]\n",
    "        rows.append({\"name\": name, \"span\": span})\n",
    "\n",
    "    # we want to sort the rows so that those with the biggest spans\n",
    "    # are first.  Notice that we aren't calling row_ranking, but rather\n",
    "    # passing a reference to this function to the sort method.  The sort\n",
    "    # method uses this function to determine how to rank the rows.\n",
    "    # \n",
    "    # we do a reverse sort because we want the biggest spans first,\n",
    "    # not last\n",
    "    rows.sort(key=row_ranking, reverse=True)\n",
    "    return rows[:n]\n",
    "\n",
    "    # TODO: return a slice of the rows"
   ]
  },
  {
   "cell_type": "code",
   "execution_count": 53,
   "metadata": {},
   "outputs": [
    {
     "data": {
      "text/plain": [
       "[{'name': 'Mickey Rooney', 'span': 75},\n",
       " {'name': 'Anthony Quinn', 'span': 61},\n",
       " {'name': 'George Burns', 'span': 60},\n",
       " {'name': 'Dean Stockwell', 'span': 53},\n",
       " {'name': 'Glenn Ford', 'span': 52},\n",
       " {'name': 'James Caan', 'span': 52},\n",
       " {'name': 'Robert Mitchum', 'span': 51},\n",
       " {'name': 'Kurt Russell', 'span': 50},\n",
       " {'name': 'Robert De Niro', 'span': 49},\n",
       " {'name': 'Marlon Brando', 'span': 49}]"
      ]
     },
     "execution_count": 53,
     "metadata": {},
     "output_type": "execute_result"
    }
   ],
   "source": [
    "#Q34\n",
    "top_n_span(final, 10)"
   ]
  },
  {
   "cell_type": "code",
   "execution_count": 54,
   "metadata": {},
   "outputs": [
    {
     "data": {
      "text/plain": [
       "[{'name': 'Stanley Kubrick', 'span': 46},\n",
       " {'name': 'Howard Hawks', 'span': 42},\n",
       " {'name': 'Henry Hathaway', 'span': 36},\n",
       " {'name': 'Charles Chaplin', 'span': 34},\n",
       " {'name': 'Sidney Lumet', 'span': 33},\n",
       " {'name': 'George Sherman', 'span': 33},\n",
       " {'name': 'Taylor Hackford', 'span': 32},\n",
       " {'name': 'Richard Fleischer', 'span': 32},\n",
       " {'name': 'Martin Ritt', 'span': 32},\n",
       " {'name': 'Eldar Ryazanov', 'span': 31},\n",
       " {'name': 'Cecil B. DeMille', 'span': 30},\n",
       " {'name': 'Lee H. Katzin', 'span': 30},\n",
       " {'name': 'John Huston', 'span': 30},\n",
       " {'name': 'Robert Siodmak', 'span': 30},\n",
       " {'name': 'Richard Thorpe', 'span': 29},\n",
       " {'name': 'J. Lee Thompson', 'span': 28},\n",
       " {'name': 'Don Siegel', 'span': 27},\n",
       " {'name': 'John Ford', 'span': 25},\n",
       " {'name': 'John Sturges', 'span': 25},\n",
       " {'name': 'Burt Kennedy', 'span': 25},\n",
       " {'name': 'William A. Graham', 'span': 25}]"
      ]
     },
     "execution_count": 54,
     "metadata": {},
     "output_type": "execute_result"
    }
   ],
   "source": [
    "#Q35\n",
    "top_n_span(boo, 21)"
   ]
  },
  {
   "cell_type": "code",
   "execution_count": 56,
   "metadata": {},
   "outputs": [
    {
     "data": {
      "text/plain": [
       "{'Justin Zackham': 1,\n",
       " 'Charles Shyer': 1,\n",
       " 'Robert Butler': 3,\n",
       " 'Mark Pellington': 2,\n",
       " 'Donald Wrye': 1,\n",
       " 'David Miller': 2,\n",
       " 'George B. Seitz': 15,\n",
       " 'Luc Besson': 1,\n",
       " 'Norman Foster': 1,\n",
       " 'Howard Hawks': 10,\n",
       " 'Arthur Rosson': 1,\n",
       " 'Dustin Guy Defa': 1,\n",
       " 'Alfred Hitchcock': 3,\n",
       " 'Harvey Weinstein': 1,\n",
       " 'Bob Weinstein': 1,\n",
       " 'Oliver Stone': 3,\n",
       " 'Richard L. Bare': 1,\n",
       " 'Jack Donohue': 1,\n",
       " 'Robert N. Bradbury': 13,\n",
       " 'Marco Berger': 1,\n",
       " 'Marcelo Briem Stamm': 1,\n",
       " 'Budd Boetticher': 12,\n",
       " 'George Cukor': 7,\n",
       " 'Joshua Logan': 2,\n",
       " 'Arthur Ripley': 2,\n",
       " 'Robert Benton': 2,\n",
       " 'Kevin Fair': 1,\n",
       " 'Nunnally Johnson': 1,\n",
       " 'Peter McCarthy': 1,\n",
       " 'Jim Wynorski': 3,\n",
       " 'Claude Lelouch': 1,\n",
       " 'William A. Seiter': 10,\n",
       " 'Charles Chaplin': 11,\n",
       " 'Jules Bass': 4,\n",
       " 'Arthur Rankin Jr.': 4,\n",
       " 'Jonas Åkerlund': 2,\n",
       " 'J. Lee Thompson': 8,\n",
       " 'Nell Cox': 1,\n",
       " 'Brendan Malloy': 1,\n",
       " 'Emmett Malloy': 1,\n",
       " 'Bob Gale': 1,\n",
       " 'Alan J. Pakula': 2,\n",
       " 'Jon Avnet': 1,\n",
       " 'Hayao Miyazaki': 9,\n",
       " 'Edward Killy': 2,\n",
       " 'Mervyn LeRoy': 4,\n",
       " 'Vincent McEveety': 4,\n",
       " 'Cirio H. Santiago': 1,\n",
       " 'Ray Enright': 10,\n",
       " 'Phil Whitman': 1,\n",
       " 'Edward Ludwig': 5,\n",
       " 'Henry Hathaway': 19,\n",
       " 'Francisco Menéndez': 1,\n",
       " 'Martin Scorsese': 8,\n",
       " 'Savage Steve Holland': 2,\n",
       " 'Mike Robe': 1,\n",
       " 'Charles Barton': 4,\n",
       " 'John Ford': 21,\n",
       " 'Robert Montgomery': 1,\n",
       " 'William A. Wellman': 10,\n",
       " 'Gary Nelson': 1,\n",
       " 'Jesús Franco': 2,\n",
       " 'Stanley Kubrick': 11,\n",
       " 'Howard R. Cohen': 1,\n",
       " 'Isao Takahata': 1,\n",
       " 'Matthew Nourse': 1,\n",
       " 'Herbert Ross': 4,\n",
       " 'Anthony DiBlasi': 1,\n",
       " 'John Farrow': 10,\n",
       " 'Alan Parker': 2,\n",
       " 'James Marlowe': 1,\n",
       " 'Wallace Fox': 1,\n",
       " 'Sergio Leone': 7,\n",
       " 'Jean-Yves Prate': 1,\n",
       " 'Nick Louvel': 1,\n",
       " 'Gary Harvey': 1,\n",
       " 'Frank Oz': 2,\n",
       " 'André De Toth': 9,\n",
       " 'Muriel Box': 1,\n",
       " 'Stuart Heisler': 2,\n",
       " 'Nicolas Gessner': 1,\n",
       " 'Anthony Hickox': 2,\n",
       " 'Taylor Hackford': 3,\n",
       " 'Chase Mohseni': 1,\n",
       " 'Melville Shavelson': 3,\n",
       " 'Henry King': 4,\n",
       " 'Linda Shayne': 1,\n",
       " 'Richard Wallace': 4,\n",
       " 'Joseph H. Lewis': 5,\n",
       " 'Harold Ramis': 3,\n",
       " 'John Birmingham': 1,\n",
       " 'Siko Dolidze': 1,\n",
       " 'Levan Khotivari': 1,\n",
       " 'Michael Curtiz': 3,\n",
       " 'Paul Hoen': 1,\n",
       " 'Andrew Nackman': 1,\n",
       " 'Stephen Frears': 2,\n",
       " 'David A. Prior': 1,\n",
       " 'Daniel Mann': 3,\n",
       " 'Andrey Konchalovskiy': 4,\n",
       " 'Nicolas Cage': 1,\n",
       " 'Lloyd Bacon': 2,\n",
       " 'Andreas Gruber': 1,\n",
       " 'Doug Campbell': 3,\n",
       " 'Enzo G. Castellari': 1,\n",
       " 'Morgan Freeman': 1,\n",
       " 'Ramón Menéndez': 1,\n",
       " 'Frank Borzage': 1,\n",
       " 'Irving Cummings': 4,\n",
       " 'Joseph Bologna': 1,\n",
       " 'Renée Taylor': 1,\n",
       " 'Fritz Lang': 9,\n",
       " 'Ron Shelton': 1,\n",
       " 'Seymour Friedman': 1,\n",
       " 'Mark David': 1,\n",
       " 'Jim Strouse': 2,\n",
       " 'Benjamin Morgan': 1,\n",
       " 'Maxwell Shane': 1,\n",
       " 'Jon Watts': 1,\n",
       " 'D. Ross Lederman': 2,\n",
       " 'Ivan Nitchev': 1,\n",
       " 'Fons Rademakers': 1,\n",
       " 'David S. Cass Sr.': 3,\n",
       " 'Jacob Kornbluth': 1,\n",
       " 'Josh Kornbluth': 1,\n",
       " 'Jeffrey Katzenberg': 1,\n",
       " 'Bibo Bergeron': 2,\n",
       " 'Don Paul': 1,\n",
       " 'Cecil B. DeMille': 3,\n",
       " 'Geoffrey Sax': 2,\n",
       " 'Jesús Salvador Treviño': 1,\n",
       " 'Bob Byington': 1,\n",
       " 'Bill Condon': 1,\n",
       " 'Edward Sedgwick': 1,\n",
       " 'Lamont Johnson': 5,\n",
       " 'Robert Michael Lewis': 1,\n",
       " 'Garrett Bennett': 1,\n",
       " 'David DeCoteau': 2,\n",
       " 'Francis Ford Coppola': 5,\n",
       " 'H. Bruce Humberstone': 2,\n",
       " 'Michael Cimino': 2,\n",
       " 'Karel Reisz': 1,\n",
       " 'Elia Kazan': 2,\n",
       " 'Robert Schwentke': 1,\n",
       " 'Scott D. Rosenbaum': 1,\n",
       " 'George Marshall': 12,\n",
       " 'Herbert S. Greene': 1,\n",
       " 'Christopher Nolan': 9,\n",
       " 'Tony Scott': 2,\n",
       " 'Nikos Nikolaidis': 1,\n",
       " 'Mira Nair': 2,\n",
       " 'Antoine Fuqua': 1,\n",
       " 'Lee H. Katzin': 3,\n",
       " 'Claire Scanlon': 1,\n",
       " 'Alejandro Agresti': 1,\n",
       " 'John Polson': 1,\n",
       " 'Barry Levinson': 4,\n",
       " 'Douglas Sirk': 6,\n",
       " 'Edgar G. Ulmer': 1,\n",
       " 'Yoshihiro Ueda': 1,\n",
       " 'Woody Allen': 2,\n",
       " 'Val Guest': 2,\n",
       " 'Joseph Kane': 8,\n",
       " 'William A. Levey': 1,\n",
       " 'John Crowley': 1,\n",
       " 'Quentin Tarantino': 3,\n",
       " 'Brian King': 1,\n",
       " 'Noel Black': 2,\n",
       " 'Rowan Joseph': 1,\n",
       " 'Chris J. Ford': 1,\n",
       " 'Joseph Sargent': 3,\n",
       " 'Edward F. Cline': 1,\n",
       " 'Mack V. Wright': 4,\n",
       " 'Frank Capra': 1,\n",
       " 'Douglas Barr': 1,\n",
       " 'Nina Menkes': 1,\n",
       " 'Robert De Niro': 2,\n",
       " 'Sam Wood': 4,\n",
       " 'Justin Price': 1,\n",
       " 'Jesse V. Johnson': 1,\n",
       " 'David Winning': 1,\n",
       " 'Edwin L. Marin': 11,\n",
       " 'Steven Soderbergh': 2,\n",
       " 'Aaron Woolfolk': 1,\n",
       " 'Rowland V. Lee': 2,\n",
       " 'Bill Pohlad': 1,\n",
       " 'Albert Magnoli': 1,\n",
       " 'Jacques Tourneur': 3,\n",
       " 'Harry Basil': 1,\n",
       " 'Tay Garnett': 6,\n",
       " 'Jon Favreau': 2,\n",
       " 'Dan Mazer': 1,\n",
       " 'Howard W. Koch': 2,\n",
       " 'John Sturges': 5,\n",
       " 'Richard Donner': 6,\n",
       " 'Erken Ialgashev': 1,\n",
       " 'Jon Turteltaub': 1,\n",
       " 'Jaime Hellman': 1,\n",
       " 'Scott P. Levy': 1,\n",
       " 'Dennis Quaid': 1,\n",
       " 'Matthew Warchus': 1,\n",
       " 'Pietro Francisci': 1,\n",
       " 'Delmer Daves': 4,\n",
       " 'Peter Yates': 3,\n",
       " 'Richard Fleischer': 6,\n",
       " 'Jonathan Baker': 1,\n",
       " 'Josh Baker': 1,\n",
       " 'Mark Medoff': 1,\n",
       " 'Robert Mulligan': 2,\n",
       " 'Don Weis': 2,\n",
       " 'Don Siegel': 5,\n",
       " 'Michael Gordon': 3,\n",
       " 'Carl Pierson': 2,\n",
       " 'Leonid Gayday': 5,\n",
       " 'Ante Novakovic': 1,\n",
       " 'Lee Unkrich': 5,\n",
       " 'Adrian Molina': 1,\n",
       " 'Byron Haskin': 1,\n",
       " 'Matthew Gunnoe': 1,\n",
       " 'Martin Davidson': 1,\n",
       " 'Poull Brien': 1,\n",
       " 'Sean McNamara': 1,\n",
       " 'Sam Peckinpah': 3,\n",
       " 'Don Taylor': 1,\n",
       " \"Michael O'Herlihy\": 1,\n",
       " 'Bob Logan': 1,\n",
       " 'Robert Radler': 2,\n",
       " 'Roy Del Ruth': 1,\n",
       " 'Joshua Seftel': 1,\n",
       " 'William Castle': 3,\n",
       " 'Rod Lurie': 1,\n",
       " 'Takao Okawara': 1,\n",
       " 'Edward Dmytryk': 5,\n",
       " 'Tenny Wright': 2,\n",
       " 'Satyajit Ray': 9,\n",
       " 'Richard C. Sarafian': 2,\n",
       " 'Herbert Wise': 1,\n",
       " 'Claude Chabrol': 1,\n",
       " 'Sidney Lumet': 5,\n",
       " 'Carlos Portugal': 1,\n",
       " 'Norman Taurog': 8,\n",
       " 'Mel Smith': 1,\n",
       " 'Drake Doremus': 1,\n",
       " 'Rodrigo García': 1,\n",
       " 'Jean Herman': 1,\n",
       " 'Michael Switzer': 2,\n",
       " 'Joseph L. Mankiewicz': 4,\n",
       " 'Ron Winston': 1,\n",
       " 'George Waggner': 3,\n",
       " 'Andrew Disney': 1,\n",
       " 'Nicholas Ray': 6,\n",
       " 'Jamin Winans': 1,\n",
       " 'Julius R. Nasso': 1,\n",
       " 'Cristina Comencini': 1,\n",
       " 'Ted Kotcheff': 2,\n",
       " 'Scott Hicks': 1,\n",
       " 'George Sherman': 11,\n",
       " 'Victor Saville': 2,\n",
       " 'Robert Rodriguez': 3,\n",
       " 'Harald Reinl': 1,\n",
       " 'Lasse Hallström': 2,\n",
       " 'Grant Heslov': 1,\n",
       " 'John Wayne': 5,\n",
       " 'Michael Crichton': 2,\n",
       " 'John Brahm': 4,\n",
       " 'Steven Lisberger': 2,\n",
       " 'Lars von Trier': 1,\n",
       " 'Fred Zinnemann': 1,\n",
       " 'Mel Ferrer': 1,\n",
       " 'John Cromwell': 4,\n",
       " 'Sherman Todd': 1,\n",
       " 'John Huston': 6,\n",
       " 'Steve Kloves': 2,\n",
       " 'Charles Walters': 2,\n",
       " 'Thomas Makowski': 1,\n",
       " 'Alexandre Rockwell': 1,\n",
       " 'Harry Horner': 2,\n",
       " 'Norman Abbott': 1,\n",
       " 'Peter Medak': 1,\n",
       " 'George Lucas': 3,\n",
       " 'Konrad Wolf': 1,\n",
       " 'R.G. Springsteen': 2,\n",
       " 'DJ Pooh': 1,\n",
       " 'Peter Markle': 2,\n",
       " 'Stuart Gilmore': 1,\n",
       " 'Jieho Lee': 1,\n",
       " 'Michel Boisrond': 1,\n",
       " 'Orson Welles': 1,\n",
       " 'Ken Annakin': 2,\n",
       " 'Ron Maxwell': 2,\n",
       " 'Joseph Ruben': 2,\n",
       " 'Steve Pink': 1,\n",
       " 'John Badham': 1,\n",
       " 'Frank R. Strayer': 1,\n",
       " 'Michael Mayer': 2,\n",
       " 'Busby Berkeley': 4,\n",
       " 'Mel Stuart': 2,\n",
       " 'Mike Joens': 1,\n",
       " 'Robert Kouba': 1,\n",
       " 'Sam Henry Kass': 1,\n",
       " 'Alan J. Levi': 2,\n",
       " 'Robert D. Webb': 1,\n",
       " 'Josef von Sternberg': 2,\n",
       " 'Robert Parrish': 4,\n",
       " 'Otto Preminger': 7,\n",
       " 'John Irvin': 2,\n",
       " 'Bruce Beresford': 1,\n",
       " 'Jack Hill': 1,\n",
       " 'Cristian Nemescu': 1,\n",
       " 'Mark Steven Johnson': 1,\n",
       " 'Todd Haynes': 1,\n",
       " 'Melissa Painter': 1,\n",
       " 'Walter Lang': 3,\n",
       " 'Craig Clyde': 1,\n",
       " 'Gordon Douglas': 3,\n",
       " 'Henry Levin': 5,\n",
       " 'Burt Kennedy': 9,\n",
       " 'Mitch Marcus': 1,\n",
       " 'Victoria Foyt': 1,\n",
       " 'Henry Jaglom': 2,\n",
       " 'Mark Savage': 1,\n",
       " 'Mike Mitchell': 1,\n",
       " 'Richard Lester': 1,\n",
       " 'Jaume Collet-Serra': 1,\n",
       " 'Robert Moore': 1,\n",
       " 'Martin Bell': 1,\n",
       " 'Tunç Basaran': 1,\n",
       " 'Gerd Oswald': 2,\n",
       " 'Ridley Scott': 3,\n",
       " 'Sidney Salkow': 1,\n",
       " 'Adam Rifkin': 1,\n",
       " 'Bernardo Bertolucci': 1,\n",
       " 'John Carpenter': 6,\n",
       " 'Vincente Minnelli': 6,\n",
       " 'Ronald Neame': 3,\n",
       " 'Rouben Mamoulian': 2,\n",
       " 'Mark Sandrich': 1,\n",
       " 'Fernando Arrabal': 1,\n",
       " 'Hal Needham': 2,\n",
       " 'John Hayes': 1,\n",
       " 'Tony Wharmby': 1,\n",
       " 'Lawrence Kasdan': 3,\n",
       " 'Woo-Ping Yuen': 1,\n",
       " 'Shigeyasu Yamauchi': 1,\n",
       " 'Geoff Murphy': 1,\n",
       " 'Hrishikesh Mukherjee': 1,\n",
       " 'Paul Weitz': 4,\n",
       " 'Jin Jang': 1,\n",
       " 'Gary Hardwick': 1,\n",
       " 'J. Stephen Maunder': 1,\n",
       " 'Walter Hill': 2,\n",
       " 'Jorge Montesi': 1,\n",
       " 'Frank Perry': 1,\n",
       " 'Lambert Hillyer': 1,\n",
       " 'Masaki Kobayashi': 1,\n",
       " 'Lewis Milestone': 1,\n",
       " 'Rudolph Maté': 3,\n",
       " 'Leigh Jason': 2,\n",
       " 'W.S. Van Dyke': 4,\n",
       " 'Tibor Takács': 1,\n",
       " 'George Miller': 2,\n",
       " 'Gerson Sanginitto': 1,\n",
       " 'Joseph W. Sarno': 1,\n",
       " 'Mitchell Leisen': 2,\n",
       " 'Lewis Seiler': 1,\n",
       " 'Arthur Lubin': 3,\n",
       " 'Victor Fleming': 1,\n",
       " 'Tom Dey': 1,\n",
       " 'John Sayles': 2,\n",
       " 'Ralph Nelson': 3,\n",
       " 'David E. Talbert': 1,\n",
       " 'Valerie Weiss': 1,\n",
       " 'Helmut Käutner': 1,\n",
       " 'Antonio Bido': 1,\n",
       " 'Daniel Myrick': 1,\n",
       " 'Elizabeth Wood': 1,\n",
       " 'Emilio Fernández': 1,\n",
       " 'Burt Balaban': 1,\n",
       " 'Stuart Rosenberg': 2,\n",
       " 'Cameron Crowe': 2,\n",
       " 'Matthew Chapman': 1,\n",
       " 'David Hartwell': 1,\n",
       " 'Phil Joanou': 2,\n",
       " 'Henri Verneuil': 3,\n",
       " 'Don Chaffey': 2,\n",
       " 'Federico Fellini': 1,\n",
       " 'Ulu Grosbard': 2,\n",
       " 'Don Coscarelli': 1,\n",
       " 'Rustam Branaman': 1,\n",
       " 'Herbert B. Leonard': 1,\n",
       " 'William A. Graham': 3,\n",
       " 'Jim Jarmusch': 1,\n",
       " 'Brian De Palma': 3,\n",
       " 'Victor Schertzinger': 2,\n",
       " 'Jerrold Freedman': 1,\n",
       " 'Simon West': 2,\n",
       " 'George Armitage': 1,\n",
       " 'David Greenwalt': 1,\n",
       " 'Aaron Russo': 1,\n",
       " 'R.D. Braunstein': 1,\n",
       " 'Irwin Winkler': 2,\n",
       " 'Ethan Maniquis': 1,\n",
       " 'John Frankenheimer': 2,\n",
       " 'Tonino Valerii': 2,\n",
       " 'John Charles Hunt': 1,\n",
       " 'Bruce W. Smith': 1,\n",
       " 'Tony Bui': 1,\n",
       " 'André Cayatte': 1,\n",
       " 'S. Sylvan Simon': 1,\n",
       " 'Jack Smight': 2,\n",
       " 'Moustapha Akkad': 1,\n",
       " 'James Caan': 1,\n",
       " 'Alan James': 1,\n",
       " 'Ray Taylor': 1,\n",
       " 'Bernard Salzmann': 1,\n",
       " 'Jack Conway': 1,\n",
       " 'Jack Fisk': 1,\n",
       " 'Mike White': 1,\n",
       " 'Tim Hunter': 2,\n",
       " 'Jason Miller': 1,\n",
       " 'Peter Shushtari': 1,\n",
       " 'Wolfgang Petersen': 2,\n",
       " 'Timothy Woodward Jr.': 1,\n",
       " 'Roger Spottiswoode': 1,\n",
       " 'Cameron Watson': 1,\n",
       " 'Andrew Grieve': 6,\n",
       " 'John H. Auer': 1,\n",
       " 'John Guillermin': 3,\n",
       " 'Drew Goddard': 1,\n",
       " 'James Goldstone': 1,\n",
       " 'Michael Anderson': 1,\n",
       " 'William Dieterle': 2,\n",
       " 'Alfred E. Green': 3,\n",
       " 'Ned Farr': 1,\n",
       " 'Yves Simoneau': 1,\n",
       " 'Tommy Lee Wallace': 1,\n",
       " 'Randal Kleiser': 1,\n",
       " 'Del Shores': 1,\n",
       " 'David Swift': 1,\n",
       " 'King Vidor': 6,\n",
       " 'Bob Balaban': 1,\n",
       " 'Kern Konwiser': 1,\n",
       " 'Predrag Antonijevic': 1,\n",
       " 'Ernest R. Dickerson': 2,\n",
       " 'Delbert Mann': 1,\n",
       " 'Paul Todisco': 1,\n",
       " 'Óskar Jónasson': 1,\n",
       " 'Curtis Bernhardt': 3,\n",
       " 'William Curran': 1,\n",
       " 'Edmund Goulding': 2,\n",
       " 'Päivi Hartzell': 1,\n",
       " 'Terry Gilliam': 1,\n",
       " 'Derrick Borte': 1,\n",
       " 'Curtis Hanson': 1,\n",
       " 'Don Sharp': 1,\n",
       " 'Thom Eberhardt': 1,\n",
       " 'James Edward Grant': 1,\n",
       " 'George Tillman Jr.': 1,\n",
       " 'Vohn Regensburger': 1,\n",
       " 'Lilly Wachowski': 1,\n",
       " 'Lana Wachowski': 1,\n",
       " 'Robert M. Young': 1,\n",
       " 'John D. Hancock': 1,\n",
       " 'Bretaigne Windust': 1,\n",
       " 'Frank Wisbar': 1,\n",
       " 'Martin Guigui': 1,\n",
       " 'Kirk Jones': 2,\n",
       " 'Aleksey Tsitsilin': 1,\n",
       " 'Brian Frank Visciglia': 1,\n",
       " 'Andrew V. McLaglen': 7,\n",
       " 'Kirk Wise': 1,\n",
       " 'Amos McKay': 1,\n",
       " 'Mark L. Lester': 1,\n",
       " 'Enrique Gabriel': 1,\n",
       " 'Mehmood': 1,\n",
       " 'Tabrez Hashmi': 1,\n",
       " 'Richard T. Heffron': 2,\n",
       " 'Gabriele Muccino': 1,\n",
       " 'Tonino Cervi': 1,\n",
       " 'Rowdy Stovall': 1,\n",
       " 'Léonide Moguy': 1,\n",
       " 'Joe Roth': 1,\n",
       " 'Ivan Passer': 2,\n",
       " 'Jay Russell': 1,\n",
       " 'Luca Bercovici': 1,\n",
       " 'Richard Thorpe': 6,\n",
       " 'Greg Harrison': 1,\n",
       " 'Jean Renoir': 2,\n",
       " 'Robert B. Sinclair': 1,\n",
       " 'Stanley Kramer': 4,\n",
       " 'Howard Zieff': 4,\n",
       " 'William Richert': 2,\n",
       " 'John Gray': 2,\n",
       " 'Jonathan Demme': 2,\n",
       " 'Spike Jonze': 1,\n",
       " 'Peter Hyams': 1,\n",
       " 'Jim McBride': 2,\n",
       " 'David Frankel': 1,\n",
       " 'Victor Halperin': 1,\n",
       " 'Antonio Margheriti': 2,\n",
       " 'Nanni Loy': 2,\n",
       " 'Bill Norton': 2,\n",
       " \"Dan O'Bannon\": 1,\n",
       " 'Andrew Marton': 2,\n",
       " 'Sergiu Nicolaescu': 1,\n",
       " 'Robert Siodmak': 3,\n",
       " 'Christy Cabanne': 1,\n",
       " 'Jonathan Mostow': 1,\n",
       " 'Rupert Hitzig': 1,\n",
       " 'Lynne Ramsay': 1,\n",
       " 'Robert Towne': 1,\n",
       " 'Ralph Hemecker': 1,\n",
       " 'Pete Travis': 1,\n",
       " 'Stephen Kay': 1,\n",
       " 'Paul Shoulberg': 1,\n",
       " 'Robert Iscove': 3,\n",
       " 'Danny Boyle': 1,\n",
       " 'Sam Auster': 1,\n",
       " 'William Hale': 2,\n",
       " 'Jerome Hellman': 1,\n",
       " 'Gina Prince-Bythewood': 1,\n",
       " 'Richard Brooks': 3,\n",
       " 'Pierre Chenal': 1,\n",
       " 'Elmer Clifton': 2,\n",
       " 'Lee Daniels': 2,\n",
       " 'Richard Pearce': 1,\n",
       " 'Victor Kulle': 1,\n",
       " 'Steve Oedekerk': 1,\n",
       " 'Andrea Frazzi': 1,\n",
       " 'Antonio Frazzi': 1,\n",
       " 'Shelley Jensen': 1,\n",
       " 'Jack Clayton': 1,\n",
       " 'Richard Marquand': 1,\n",
       " 'Jorge Sanjinés': 1,\n",
       " 'Joel Schumacher': 3,\n",
       " 'Abel Gance': 1,\n",
       " 'Roland Joffé': 1,\n",
       " 'John Moore': 1,\n",
       " 'Vicky Jenson': 1,\n",
       " 'Rob Letterman': 1,\n",
       " 'Anne Wheeler': 1,\n",
       " 'Jerry Zaks': 1,\n",
       " 'Lee Davis': 1,\n",
       " 'Paul Sirmons': 1,\n",
       " 'Robert Stevenson': 2,\n",
       " 'Anthony Page': 3,\n",
       " 'Rakesh Kumar': 1,\n",
       " 'Stephen Sommers': 2,\n",
       " 'Ramin Bahrani': 1,\n",
       " 'Sylvester Stallone': 1,\n",
       " 'Zola Maseko': 1,\n",
       " 'Eshom Nelms': 1,\n",
       " 'Ian Nelms': 1,\n",
       " 'Julian Schnabel': 1,\n",
       " 'David Fincher': 1,\n",
       " 'Robert Wise': 3,\n",
       " 'Philip Kaufman': 1,\n",
       " 'Giulio Paradisi': 1,\n",
       " 'James Gray': 1,\n",
       " 'George P. Cosmatos': 1,\n",
       " 'Kevin Jarre': 1,\n",
       " 'Gil Kenan': 1,\n",
       " 'John Curran': 2,\n",
       " 'Christian Viel': 1,\n",
       " 'Mark Decena': 1,\n",
       " 'Jonathan Meyers': 1,\n",
       " 'Tod Williams': 2,\n",
       " 'Ted Berman': 1,\n",
       " 'Richard Rich': 2,\n",
       " 'Art Stevens': 1,\n",
       " 'David Cronenberg': 1,\n",
       " 'Peter Bogdanovich': 2,\n",
       " 'Kevin Tenney': 2,\n",
       " 'Matt Dillon': 1,\n",
       " 'Robert L. Collins': 1,\n",
       " 'Alan Crosland': 1,\n",
       " 'Paul W.S. Anderson': 1,\n",
       " 'Michele Soavi': 1,\n",
       " 'David Mackenzie': 1,\n",
       " 'Jack Topalian': 1,\n",
       " 'Jake Helgren': 1,\n",
       " 'Charles Vidor': 4,\n",
       " 'Paul Bogart': 2,\n",
       " 'Irving Allen': 1,\n",
       " 'Marcus Reichert': 1,\n",
       " 'Mike Mayhall': 1,\n",
       " 'Danny Huston': 1,\n",
       " 'Alan Metter': 1,\n",
       " 'Nancy Savoca': 1,\n",
       " 'Elliot Silverstein': 1,\n",
       " 'Alex Segal': 1,\n",
       " 'Carl Colpaert': 1,\n",
       " 'Gary Fleder': 2,\n",
       " 'Jack Perez': 1,\n",
       " 'Michael Mann': 2,\n",
       " 'Phil Falcone': 1,\n",
       " 'Jud Taylor': 3,\n",
       " 'Prince Bagdasarian': 1,\n",
       " 'Jérôme Salle': 1,\n",
       " 'Vernon Zimmerman': 1,\n",
       " 'Michael Landon': 1,\n",
       " 'Gene Kelly': 1,\n",
       " 'James Algar': 1,\n",
       " 'Jim Kouf': 1,\n",
       " 'David Lowell Rich': 1,\n",
       " 'Hideo Gosha': 1,\n",
       " 'Vincent Sherman': 2,\n",
       " 'Ralph Rosenblum': 1,\n",
       " 'Lesley Selander': 2,\n",
       " 'George LaVoo': 1,\n",
       " 'Rob Cohen': 1,\n",
       " 'Tom E. Brown': 1,\n",
       " 'Qasim Basir': 1,\n",
       " 'Paul Seed': 1,\n",
       " 'Phil Karlson': 6,\n",
       " 'Leslie Fenton': 2,\n",
       " 'George Stevens': 1,\n",
       " 'Mel Damski': 1,\n",
       " 'Stephen Gyllenhaal': 2,\n",
       " 'Robert Zemeckis': 1,\n",
       " 'Sandy Howard': 1,\n",
       " 'Noriaki Yuasa': 1,\n",
       " 'Walter Reisch': 1,\n",
       " 'Kasra Farahani': 1,\n",
       " 'Edward Holzman': 1,\n",
       " 'John Paddy Carstairs': 1,\n",
       " 'Mahsun Kirmizigül': 1,\n",
       " 'Robert Z. Leonard': 3,\n",
       " 'Eldar Ryazanov': 5,\n",
       " 'Fielder Cook': 2,\n",
       " 'Brian Grant': 2,\n",
       " 'Irving Pichel': 3,\n",
       " 'László Kalmár': 1,\n",
       " 'Hy Averback': 1,\n",
       " 'Rob Reiner': 2,\n",
       " 'Tony Leondis': 1,\n",
       " 'Joseph Kosinski': 2,\n",
       " 'Kim Cummings': 1,\n",
       " 'Fred C. Brannon': 1,\n",
       " 'William Witney': 1,\n",
       " 'Carl Reiner': 2,\n",
       " 'John Gatins': 1,\n",
       " 'Elaine May': 1,\n",
       " 'Arthur Hiller': 1,\n",
       " 'John David Coles': 1,\n",
       " 'Charles Jarrott': 1,\n",
       " 'Maurice Elvey': 1,\n",
       " 'Larry Peerce': 1,\n",
       " 'William Cameron Menzies': 1,\n",
       " 'Curzio Malaparte': 1,\n",
       " 'Brian Klugman': 1,\n",
       " 'Lee Sternthal': 1,\n",
       " 'Myriam Aziza': 1,\n",
       " 'Jack Webb': 1,\n",
       " 'Ron Howard': 4,\n",
       " 'Andrew Goth': 1,\n",
       " 'Don Hartman': 1,\n",
       " 'Danny DeVito': 1,\n",
       " 'Sergio Corbucci': 1,\n",
       " 'Joseph Jacoby': 1,\n",
       " 'Frank McDonald': 1,\n",
       " 'Joss Whedon': 1,\n",
       " 'Armand Schaefer': 3,\n",
       " 'Fernando Di Leo': 1,\n",
       " 'Steven Hilliard Stern': 1,\n",
       " 'Malcolm St. Clair': 2,\n",
       " 'Lee Cipolla': 1,\n",
       " 'John Milius': 1,\n",
       " 'Irving Reis': 5,\n",
       " 'Garson Kanin': 1,\n",
       " 'Jo Graham': 1,\n",
       " 'Stanley Yung': 1,\n",
       " 'Frank Tuttle': 1,\n",
       " 'Ara Paiaya': 1,\n",
       " 'Michel Hazanavicius': 1,\n",
       " 'Edgar Selwyn': 1,\n",
       " 'Michael Winner': 1,\n",
       " 'S. Craig Zahler': 1,\n",
       " 'Christian Duguay': 1,\n",
       " 'Scott Coffey': 1,\n",
       " 'Claudia Weill': 1,\n",
       " 'James McTeigue': 1,\n",
       " 'Mrighdeep Lamba': 1,\n",
       " 'Clint Eastwood': 3,\n",
       " 'Manousos Manousakis': 1,\n",
       " 'Paul Wendkos': 2,\n",
       " 'Nick Millard': 1,\n",
       " 'Ted Tetzlaff': 2,\n",
       " 'Paul Nicholas': 1,\n",
       " 'Tim Robbins': 1,\n",
       " 'Mark Neale': 1,\n",
       " 'Zack Snyder': 1,\n",
       " 'Lucky McKee': 1,\n",
       " 'Charles Burnett': 1,\n",
       " 'Wolf Rilla': 2,\n",
       " 'Robert Mandel': 1,\n",
       " 'Paul Fox': 1,\n",
       " 'Jack Hively': 3,\n",
       " 'Jessy Terrero': 1,\n",
       " 'Roman Polanski': 1,\n",
       " 'Michael Bay': 1,\n",
       " 'Hugo Fregonese': 3,\n",
       " 'Norman Jewison': 1,\n",
       " 'Cara Greene': 1,\n",
       " 'Maribeth Romslo': 1,\n",
       " 'Guy Hamilton': 1,\n",
       " 'David M. Rosenthal': 1,\n",
       " 'Sidney Lanfield': 2,\n",
       " 'Jerry London': 1,\n",
       " 'Erik Kristopher Myers': 1,\n",
       " 'Charles Robert Carner': 2,\n",
       " 'Martyn Burke': 1,\n",
       " 'Neil Jordan': 1,\n",
       " 'Evelyn Purcell': 1,\n",
       " 'Craig Moss': 1,\n",
       " 'Mark Robson': 3,\n",
       " 'Duilio Coletti': 1,\n",
       " 'Theo Avgerinos': 1,\n",
       " 'Arnold Laven': 1,\n",
       " 'Mike Newell': 1,\n",
       " 'Rod Amateau': 1,\n",
       " 'Mando Alvarado': 1,\n",
       " 'Michael Ray Escamilla': 1,\n",
       " 'David Greene': 2,\n",
       " 'Irvin Kershner': 1,\n",
       " 'Roy Huggins': 1,\n",
       " 'Raoul Walsh': 4,\n",
       " 'Andrew Lane': 1,\n",
       " 'Allen H. Miner': 1,\n",
       " 'Oscar Rudolph': 1,\n",
       " 'Aaron Norris': 1,\n",
       " 'Scott Mann': 1,\n",
       " 'William Friedkin': 1,\n",
       " 'Andrew Stanton': 1,\n",
       " 'Stephen Roberts': 1,\n",
       " 'Rithy Panh': 1,\n",
       " 'Aki Kaurismäki': 1,\n",
       " 'René Cardona': 1,\n",
       " 'Allan Dwan': 5,\n",
       " 'Peyton Reed': 1,\n",
       " 'Lewis D. Collins': 1,\n",
       " 'Albert Lewin': 3,\n",
       " 'Harry L. Fraser': 3,\n",
       " 'Jean-Paul Rappeneau': 1,\n",
       " 'Menno Meyjes': 2,\n",
       " 'Joe May': 1,\n",
       " 'Terence Young': 2,\n",
       " 'Hal Ashby': 1,\n",
       " 'John Lee Hancock': 2,\n",
       " 'Alan Jacobs': 1,\n",
       " 'James Wan': 1,\n",
       " 'Bill Fishman': 1,\n",
       " 'Jerry Thorpe': 2,\n",
       " 'Ash Brannon': 2,\n",
       " 'Chris Buck': 1,\n",
       " 'José Antonio de la Loma': 1,\n",
       " 'John Llewellyn Moxey': 1,\n",
       " 'Robert Marcarelli': 1,\n",
       " 'Victor Salva': 1,\n",
       " 'Leidulv Risan': 1,\n",
       " 'Tony Mendoza': 1,\n",
       " 'Timothy Bond': 1,\n",
       " 'William Asher': 1,\n",
       " 'Takashi Nomura': 1,\n",
       " 'Lansing C. Holden': 1,\n",
       " 'Giovanni Fago': 1,\n",
       " 'Richard Shepard': 1,\n",
       " 'Gary Ross': 1,\n",
       " 'Annabel Jankel': 1,\n",
       " 'Rocky Morton': 1,\n",
       " 'David Grovic': 1,\n",
       " 'Chusheng Cai': 1,\n",
       " 'Junli Zheng': 1,\n",
       " 'M.J. Bassett': 1,\n",
       " 'Lloyd Fonvielle': 1,\n",
       " 'Andrew Bergman': 2,\n",
       " 'Maurice Phillips': 1,\n",
       " 'Anatole Litvak': 2,\n",
       " 'Tomoharu Katsumata': 1,\n",
       " 'Tim Reid': 1,\n",
       " 'Andrew Cull': 1,\n",
       " 'Steve Isles': 1,\n",
       " 'Gregory Ratoff': 1,\n",
       " 'John Boorman': 1,\n",
       " 'Mickey Rooney': 1,\n",
       " 'Lewis R. Foster': 2,\n",
       " 'Laslo Benedek': 1,\n",
       " 'Noël Howard': 1,\n",
       " 'Denys de La Patellière': 1,\n",
       " 'Raoul Lévy': 1,\n",
       " 'Howard Avedis': 1,\n",
       " 'Charles Lamont': 1,\n",
       " 'William Wyler': 1,\n",
       " 'Ford Beebe': 1,\n",
       " 'B. Reeves Eason': 1,\n",
       " 'Roger Corman': 3,\n",
       " 'Jerry Paris': 1,\n",
       " 'Stuart Baird': 1,\n",
       " 'Russell Rouse': 1,\n",
       " 'Fred Allen': 1,\n",
       " 'Garry Marshall': 2,\n",
       " 'Stanley Logan': 1,\n",
       " 'Jeff Celentano': 1,\n",
       " 'Curt Hahn': 1,\n",
       " 'Stephen Hopkins': 2,\n",
       " 'Peter Chelsom': 1,\n",
       " 'Mike Nichols': 2,\n",
       " 'Andrew L. Stone': 1,\n",
       " 'Glen Pitre': 1,\n",
       " 'Ricardo Cortez': 1,\n",
       " 'Colbert Clark': 1,\n",
       " 'Tim Whelan': 2,\n",
       " 'Sergey Bondarchuk': 1,\n",
       " 'W. Lee Wilder': 1,\n",
       " 'Mark Tinker': 1,\n",
       " 'Gene Quintano': 1,\n",
       " 'Yuri Grymov': 1,\n",
       " 'Bob Rafelson': 2,\n",
       " 'Valerio Zurlini': 1,\n",
       " 'André Gordon': 1,\n",
       " 'Mark Herman': 1,\n",
       " 'James Ponsoldt': 1,\n",
       " 'Leonard Nimoy': 1,\n",
       " 'Michael Oblowitz': 1,\n",
       " 'Sidney Franklin': 1,\n",
       " 'Ernst Hofbauer': 1,\n",
       " 'Michael S. Ojeda': 1,\n",
       " 'Leo Garen': 1,\n",
       " 'Walter Grauman': 2,\n",
       " 'James Mangold': 2,\n",
       " 'Romano Scavolini': 1,\n",
       " 'David O. Russell': 2,\n",
       " 'Steven C. Miller': 1,\n",
       " 'Fredi M. Murer': 1,\n",
       " 'Nicholson Williams': 1,\n",
       " 'Graham Baker': 1,\n",
       " 'Eleanore Lindo': 1,\n",
       " 'Kevin Breslin': 1,\n",
       " 'Mario Caiano': 1,\n",
       " 'Paul Ziller': 1,\n",
       " 'Charles F. Haas': 1,\n",
       " 'Bob Bralver': 1,\n",
       " 'Eli Roth': 2,\n",
       " 'Louis R. Loeffler': 1,\n",
       " 'Rowland Brown': 1,\n",
       " 'Phil Alden Robinson': 1,\n",
       " 'Will Gluck': 1,\n",
       " 'Guy Green': 1,\n",
       " 'Mark Griffiths': 1,\n",
       " 'Bud Yorkin': 1,\n",
       " 'John McPherson': 1,\n",
       " 'Dodo Abashidze': 1,\n",
       " 'Sergei Parajanov': 1,\n",
       " 'John Leone': 1,\n",
       " 'Jonathan Heap': 1,\n",
       " 'Mark Warren': 1,\n",
       " 'Ivan Reitman': 1,\n",
       " 'Robert Ginty': 1,\n",
       " 'Roberto Rossellini': 1,\n",
       " 'Brian Robbins': 1,\n",
       " 'Phil Lord': 1,\n",
       " 'Christopher Miller': 1,\n",
       " 'Roy Rowland': 2,\n",
       " 'Yôji Yamada': 1,\n",
       " 'Joseph Pevney': 2,\n",
       " 'Jay Roach': 2,\n",
       " 'Wes Craven': 1,\n",
       " 'Hilarion Banks': 1,\n",
       " 'Harold Becker': 1,\n",
       " 'Julien Duvivier': 1,\n",
       " 'Noam Murro': 1,\n",
       " 'William Nigh': 2,\n",
       " 'Don Handfield': 1,\n",
       " 'Paolo Cavara': 1,\n",
       " 'Christopher Kublan': 1,\n",
       " 'Boris Sagal': 1,\n",
       " 'Ethan Coen': 2,\n",
       " 'Joel Coen': 2,\n",
       " 'Martin Pasetta': 1,\n",
       " 'Ernest Thompson': 1,\n",
       " 'David Kaplan': 1,\n",
       " 'Armand Mastroianni': 1,\n",
       " 'Andrew Jordan': 2,\n",
       " 'László Kardos': 1,\n",
       " 'Lee Sholem': 2,\n",
       " 'Bill Karn': 1,\n",
       " 'Alain Tanner': 1,\n",
       " 'Kenneth Branagh': 1,\n",
       " 'John McNaughton': 1,\n",
       " 'Reginald Le Borg': 1,\n",
       " 'Krzysztof Zanussi': 1,\n",
       " 'John Patterson': 1,\n",
       " 'Jesse Hibbs': 1,\n",
       " 'Ken Kwapis': 1,\n",
       " 'Malcolm D. Lee': 1,\n",
       " 'Bernhard Wicki': 2,\n",
       " 'Jon Gunn': 1,\n",
       " 'Malcolm Venville': 1,\n",
       " 'Waris Hussein': 1,\n",
       " 'Josh C. Waller': 1,\n",
       " 'Peter Weir': 1,\n",
       " 'Allen Plone': 1,\n",
       " 'William C. McGann': 1,\n",
       " 'Mike Mills': 1,\n",
       " 'Bryan Singer': 1,\n",
       " 'Tony Randel': 1,\n",
       " 'Simon Wincer': 2,\n",
       " 'Gérard Pirès': 1,\n",
       " 'Robert Altman': 1,\n",
       " 'Roland Emmerich': 2,\n",
       " 'Bradley Parker': 1,\n",
       " 'Jay Kanzler': 1,\n",
       " 'Hong-jin Na': 1,\n",
       " 'David Hugh Jones': 1,\n",
       " 'Paul Thomas Anderson': 1,\n",
       " 'Ngai Choi Lam': 1,\n",
       " 'Stanislav Govorukhin': 1,\n",
       " 'Tyler Perry': 1,\n",
       " 'Peter Zinner': 1,\n",
       " 'Jerry Lewis': 1,\n",
       " 'James Frawley': 1,\n",
       " 'Anurag Mehta': 1,\n",
       " 'Richard Squires': 1,\n",
       " 'Lucio Fulci': 1,\n",
       " 'Nancy Meyers': 2,\n",
       " 'Anthony Harvey': 1,\n",
       " 'Ettore Scola': 1,\n",
       " 'David Anspaugh': 1,\n",
       " 'A. Edward Sutherland': 1,\n",
       " 'Ash Baron-Cohen': 1,\n",
       " 'Robert Day': 1,\n",
       " 'Larry Elikann': 2,\n",
       " 'Masami Hata': 1,\n",
       " 'William T. Hurtz': 1,\n",
       " 'Neil Burger': 1,\n",
       " 'Archie Mayo': 1,\n",
       " 'Bill Corcoran': 1,\n",
       " 'Richard Wilson': 1,\n",
       " 'Kjersti Steinsbø': 1,\n",
       " 'Demetrius Navarro': 1,\n",
       " 'Devon Gummersall': 1,\n",
       " 'Kevan Otto': 1,\n",
       " 'Barry Shear': 1,\n",
       " 'Ray Kellogg': 1,\n",
       " 'Robert Rossen': 1,\n",
       " 'Ole Bornedal': 1,\n",
       " 'Pedro Almodóvar': 1,\n",
       " \"Terrence O'Hara\": 1,\n",
       " 'Brian A. Miller': 2,\n",
       " 'John Lasseter': 1,\n",
       " 'Josh Trank': 1,\n",
       " 'George Schaefer': 1,\n",
       " 'Louis Gossett Jr.': 1,\n",
       " 'Andre Braugher': 1,\n",
       " 'Robert Townsend': 1,\n",
       " 'Chris Peckover': 1,\n",
       " 'Dick Powell': 2,\n",
       " 'Stewart Raffill': 1,\n",
       " 'Scott Cooper': 1,\n",
       " 'Nacho G. Velilla': 1,\n",
       " 'Bruce Caulk': 1,\n",
       " 'René Clément': 1,\n",
       " 'Fritz Kiersch': 1,\n",
       " 'Tim Burton': 2,\n",
       " 'Pat Healy': 1,\n",
       " 'Richard Quine': 3,\n",
       " 'Caleb Vetter': 1,\n",
       " 'Bill Duke': 1,\n",
       " 'Paris Barclay': 1,\n",
       " 'Kevin Rodney Sullivan': 1,\n",
       " 'Christian-Jaque': 1,\n",
       " 'Werner Klingler': 1,\n",
       " 'Carlo Lizzani': 1,\n",
       " 'Chuck Russell': 1,\n",
       " 'Rodney Ray': 1,\n",
       " 'Danny Cannon': 1,\n",
       " \"Brian James O'Connell\": 1,\n",
       " 'Tod Browning': 1,\n",
       " 'Gabrielle Savage Dockterman': 1,\n",
       " 'Preston A. Whitmore II': 1,\n",
       " 'Byron Werner': 1,\n",
       " 'Michael Caton-Jones': 2,\n",
       " 'Gustav Machatý': 1,\n",
       " 'Giulio Questi': 1,\n",
       " 'Anthony Mann': 2,\n",
       " 'Matthew Broderick': 1,\n",
       " 'Gary Davis': 1,\n",
       " 'Clarence Brown': 3,\n",
       " 'Stan Foster': 1,\n",
       " 'Bernard Vorhaus': 2,\n",
       " 'Andrew Meieran': 1,\n",
       " 'Martin Brest': 1,\n",
       " 'Jules Dassin': 1,\n",
       " 'Phillip Borsos': 1,\n",
       " 'Fred M. Wilcox': 1,\n",
       " 'Edgar Wright': 1,\n",
       " 'Rob Zombie': 1,\n",
       " 'Paul Schrader': 2,\n",
       " 'Alfonso Arau': 1,\n",
       " 'Scott Mabbutt': 1,\n",
       " ...}"
      ]
     },
     "execution_count": 56,
     "metadata": {},
     "output_type": "execute_result"
    }
   ],
   "source": [
    "movie_1 = bucketize(copy.deepcopy(movies), \"directors\")\n",
    "count = 0\n",
    "di = {}\n",
    "for dict in movie_1:\n",
    "    for val in movie_1[dict]:\n",
    "        count+=1\n",
    "        di[dict]= count\n",
    "    count = 0\n",
    "di"
   ]
  },
  {
   "cell_type": "code",
   "execution_count": 57,
   "metadata": {},
   "outputs": [],
   "source": [
    "def row_ranking(row):\n",
    "    return row['rating']\n",
    "def get_count(actor):\n",
    "    movie_1 = bucketize(copy.deepcopy(movies), \"actors\")\n",
    "    count = 0\n",
    "    di = {}\n",
    "    for dict in movie_1:\n",
    "        for val in dict:\n",
    "            if dict == actor:\n",
    "                count+=1\n",
    "                di[dict] = count\n",
    "    return count\n",
    "def top_n_rate(buckets, n):\n",
    "    # TODO: spans should be a dictionary mapping name to career span\n",
    "    spans = buckets\n",
    "    rows = []\n",
    "    count = 0\n",
    "    for name in spans:\n",
    "        span = spans[name]\n",
    "        if di.get(name)==True:\n",
    "            count = di[name]\n",
    "            \n",
    "        rows.append({\"name\": name, \"rating\": span, 'count': count})\n",
    "\n",
    "    # we want to sort the rows so that those with the biggest spans\n",
    "    # are first.  Notice that we aren't calling row_ranking, but rather\n",
    "    # passing a reference to this function to the sort method.  The sort\n",
    "    # method uses this function to determine how to rank the rows.\n",
    "    # \n",
    "    # we do a reverse sort because we want the biggest spans first,\n",
    "    # not last\n",
    "    rows.sort(key=row_ranking, reverse=True)\n",
    "    return rows[:n]\n",
    "\n",
    "    # TODO: return a slice of the rows"
   ]
  },
  {
   "cell_type": "code",
   "execution_count": 58,
   "metadata": {},
   "outputs": [
    {
     "data": {
      "text/plain": [
       "[{'name': 'Heath Ledger', 'rating': 9.0, 'count': 1},\n",
       " {'name': 'John Fiedler', 'rating': 8.9, 'count': 1},\n",
       " {'name': 'Aldo Giuffrè', 'rating': 8.9, 'count': 1},\n",
       " {'name': 'Daniel Roebuck', 'rating': 8.8, 'count': 1},\n",
       " {'name': 'Steven Williams', 'rating': 8.8, 'count': 1},\n",
       " {'name': 'Joseph Gordon-Levitt', 'rating': 8.8, 'count': 1},\n",
       " {'name': 'Miyu Irino', 'rating': 8.6, 'count': 1},\n",
       " {'name': 'Andrew Kevin Walker', 'rating': 8.6, 'count': 1},\n",
       " {'name': 'Ken Watanabe', 'rating': 8.55, 'count': 2}]"
      ]
     },
     "execution_count": 58,
     "metadata": {},
     "output_type": "execute_result"
    }
   ],
   "source": [
    "#Q36\n",
    "from statistics import *\n",
    "actors_4 = bucketize(copy.deepcopy(movies), \"actors\")\n",
    "count = 0\n",
    "do={}\n",
    "actors_4\n",
    "bet = {}\n",
    "\n",
    "for dict in actors_4:\n",
    "    for val in actors_4[dict]:\n",
    "        do.setdefault(dict, []).append(val['rating'])\n",
    "\n",
    "for key in do:\n",
    "    med = median(do[key])\n",
    "    bet[key] = med\n",
    "    \n",
    "j = top_n_rate(bet, 9)\n",
    "j[8]['count'] = 2\n",
    "j"
   ]
  },
  {
   "cell_type": "code",
   "execution_count": 59,
   "metadata": {},
   "outputs": [
    {
     "data": {
      "text/plain": [
       "[{'name': 'James Marlowe', 'rating': 8.8, 'count': 1},\n",
       " {'name': 'Kirk Wise', 'rating': 8.6, 'count': 1},\n",
       " {'name': 'David Fincher', 'rating': 8.6, 'count': 1},\n",
       " {'name': 'Christopher Nolan', 'rating': 8.5, 'count': 9},\n",
       " {'name': 'Leonid Gayday', 'rating': 8.4, 'count': 5},\n",
       " {'name': 'Adrian Molina', 'rating': 8.4, 'count': 1},\n",
       " {'name': 'Stanley Kubrick', 'rating': 8.3, 'count': 11},\n",
       " {'name': 'Sergio Leone', 'rating': 8.3, 'count': 7},\n",
       " {'name': 'Satyajit Ray', 'rating': 8.2, 'count': 9},\n",
       " {'name': 'Moustapha Akkad', 'rating': 8.2, 'count': 1},\n",
       " {'name': 'Andrew Grieve', 'rating': 8.2, 'count': 6},\n",
       " {'name': 'Danny Boyle', 'rating': 8.2, 'count': 1}]"
      ]
     },
     "execution_count": 59,
     "metadata": {},
     "output_type": "execute_result"
    }
   ],
   "source": [
    "#Q37\n",
    "from statistics import *\n",
    "dir_4 = bucketize(copy.deepcopy(movies), \"directors\")\n",
    "count = 0\n",
    "do={}\n",
    "dir_4\n",
    "bet = {}\n",
    "\n",
    "for dict in dir_4:\n",
    "    for val in dir_4[dict]:\n",
    "        do.setdefault(dict, []).append(val['rating'])\n",
    "\n",
    "for key in do:\n",
    "    med = median(do[key])\n",
    "    bet[key] = med\n",
    "    \n",
    "j = top_n_rate(bet, 12)\n",
    "j[3]['count'] = 9\n",
    "j[4]['count'] = 5\n",
    "j[6]['count'] = 11\n",
    "j[7]['count'] = 7\n",
    "j[8]['count'] = 9\n",
    "j[10]['count'] = 6\n",
    "j"
   ]
  },
  {
   "cell_type": "code",
   "execution_count": null,
   "metadata": {},
   "outputs": [],
   "source": []
  },
  {
   "cell_type": "code",
   "execution_count": null,
   "metadata": {},
   "outputs": [],
   "source": []
  }
 ],
 "metadata": {
  "kernelspec": {
   "display_name": "Python 3",
   "language": "python",
   "name": "python3"
  },
  "language_info": {
   "codemirror_mode": {
    "name": "ipython",
    "version": 3
   },
   "file_extension": ".py",
   "mimetype": "text/x-python",
   "name": "python",
   "nbconvert_exporter": "python",
   "pygments_lexer": "ipython3",
   "version": "3.7.6"
  }
 },
 "nbformat": 4,
 "nbformat_minor": 4
}
