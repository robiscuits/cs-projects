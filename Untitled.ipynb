{
 "cells": [
  {
   "cell_type": "code",
   "execution_count": 1,
   "metadata": {},
   "outputs": [],
   "source": [
    "#tags: <b> , </b>\n",
    "#b: bold\n",
    "#i: italics\n",
    "#<i><b>Thing</b></i>\n",
    "#p: paragraph\n",
    "#h1: large header\n",
    "#h2: smaller header\n",
    "#br: line break, individual tag between lines\n",
    "#ul: unordered list\n",
    "#li: list item\n",
    "#ol: ordered list, numbered instead of bullet points"
   ]
  },
  {
   "cell_type": "code",
   "execution_count": 7,
   "metadata": {},
   "outputs": [],
   "source": [
    "def gen_html(shopping_list, html_path):\n",
    "    f = open(html_path, \"w\")\n",
    "    f.write(\"<ul><br>\")\n",
    "    for item in shopping_list:\n",
    "        f.write(\"<li>\"+str(item)+\"</li><br>\")\n",
    "    f.write(\"</ul><br>\")\n",
    "    f.close()\n",
    "gen_html([\"Apples\",\"Milk\",\"Eggs\",\"Fried Rice\"], \"joes.html\")"
   ]
  },
  {
   "cell_type": "code",
   "execution_count": 8,
   "metadata": {},
   "outputs": [],
   "source": [
    "#<html>\n",
    "#    <head>\n",
    "#       <title>\n",
    "#       </title>\n",
    "#   </head>\n",
    "#    <body>\n",
    "\n",
    "\n",
    "#    </body>\n",
    "#</html>"
   ]
  },
  {
   "cell_type": "code",
   "execution_count": 9,
   "metadata": {},
   "outputs": [],
   "source": [
    "#hyperlink\n",
    "#<a> tag creates hyperlink\n",
    "#href=\"www.google.com\"\n",
    "#<a href=\"www.google.com\"> google </a>"
   ]
  },
  {
   "cell_type": "code",
   "execution_count": 11,
   "metadata": {},
   "outputs": [],
   "source": [
    "import csv, os"
   ]
  },
  {
   "cell_type": "code",
   "execution_count": 15,
   "metadata": {},
   "outputs": [
    {
     "ename": "IndentationError",
     "evalue": "expected an indented block (<ipython-input-15-100cf0c53835>, line 4)",
     "output_type": "error",
     "traceback": [
      "\u001b[1;36m  File \u001b[1;32m\"<ipython-input-15-100cf0c53835>\"\u001b[1;36m, line \u001b[1;32m4\u001b[0m\n\u001b[1;33m    csv_to_html(os.path.join(\"data\", \"review1.csv\"), \"reviews.html\")\u001b[0m\n\u001b[1;37m              ^\u001b[0m\n\u001b[1;31mIndentationError\u001b[0m\u001b[1;31m:\u001b[0m expected an indented block\n"
     ]
    }
   ],
   "source": [
    "def csv_to_html(csv_path, html_path):\n",
    "    f = open(csv_path)\n",
    "    \n",
    "    f.close()\n",
    "\n",
    "csv_to_html(os.path.join(\"data\", \"review1.csv\"), \"reviews.html\")"
   ]
  },
  {
   "cell_type": "code",
   "execution_count": null,
   "metadata": {},
   "outputs": [],
   "source": []
  }
 ],
 "metadata": {
  "kernelspec": {
   "display_name": "Python 3",
   "language": "python",
   "name": "python3"
  },
  "language_info": {
   "codemirror_mode": {
    "name": "ipython",
    "version": 3
   },
   "file_extension": ".py",
   "mimetype": "text/x-python",
   "name": "python",
   "nbconvert_exporter": "python",
   "pygments_lexer": "ipython3",
   "version": "3.7.6"
  }
 },
 "nbformat": 4,
 "nbformat_minor": 4
}
